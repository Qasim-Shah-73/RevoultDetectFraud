{
  "nbformat": 4,
  "nbformat_minor": 0,
  "metadata": {
    "colab": {
      "provenance": [],
      "gpuType": "T4",
      "mount_file_id": "1IVrw7UcgYq7Vkz-9sR3EuaOYVp2k6uqu",
      "authorship_tag": "ABX9TyO7IT6VGHrru79U6ENeCewU",
      "include_colab_link": true
    },
    "kernelspec": {
      "name": "python3",
      "display_name": "Python 3"
    },
    "language_info": {
      "name": "python"
    },
    "accelerator": "GPU"
  },
  "cells": [
    {
      "cell_type": "markdown",
      "metadata": {
        "id": "view-in-github",
        "colab_type": "text"
      },
      "source": [
        "<a href=\"https://colab.research.google.com/github/Qasim-Shah-73/RevoultDetectFraud/blob/main/DetectFraudLSTM.ipynb\" target=\"_parent\"><img src=\"https://colab.research.google.com/assets/colab-badge.svg\" alt=\"Open In Colab\"/></a>"
      ]
    },
    {
      "cell_type": "code",
      "execution_count": 1,
      "metadata": {
        "colab": {
          "base_uri": "https://localhost:8080/"
        },
        "id": "aQfyapTSwF2m",
        "outputId": "1af5515a-b7ea-4c25-b667-856f9581120b"
      },
      "outputs": [
        {
          "output_type": "stream",
          "name": "stdout",
          "text": [
            "Drive already mounted at /content/drive; to attempt to forcibly remount, call drive.mount(\"/content/drive\", force_remount=True).\n"
          ]
        }
      ],
      "source": [
        "from google.colab import drive\n",
        "drive.mount('/content/drive')"
      ]
    },
    {
      "cell_type": "code",
      "source": [
        "# Import Libraries\n",
        "import pandas as pd\n",
        "import numpy as np\n",
        "import matplotlib.pyplot as plt\n",
        "import seaborn as sns\n",
        "\n",
        "import tensorflow as tf\n",
        "from sklearn.model_selection import train_test_split\n",
        "from sklearn.preprocessing import StandardScaler\n",
        "from keras.models import Sequential\n",
        "from keras.layers import LSTM, Dense\n",
        "from keras.optimizers import Adam\n",
        "from sklearn.model_selection import StratifiedKFold\n",
        "from sklearn.metrics import confusion_matrix, accuracy_score, precision_score, recall_score\n",
        "from tensorflow.keras.utils import plot_model\n",
        "from IPython.display import Image, display"
      ],
      "metadata": {
        "id": "2LHYxJAVwdus"
      },
      "execution_count": 2,
      "outputs": []
    },
    {
      "cell_type": "code",
      "source": [
        "# Adjust the file path based on the location of your dataset\n",
        "fraudsters_path = '/content/drive/MyDrive/Colab Notebooks/Applied AI/DL/FraudDataset/output.csv'\n",
        "final_data = pd.read_csv(fraudsters_path)"
      ],
      "metadata": {
        "colab": {
          "base_uri": "https://localhost:8080/"
        },
        "id": "AkcRc3GZxeqF",
        "outputId": "a828619e-bed0-4678-fbba-5759323320e9"
      },
      "execution_count": 3,
      "outputs": [
        {
          "output_type": "stream",
          "name": "stderr",
          "text": [
            "<ipython-input-3-766464ad0c68>:3: DtypeWarning: Columns (10) have mixed types. Specify dtype option on import or set low_memory=False.\n",
            "  final_data = pd.read_csv(fraudsters_path)\n"
          ]
        }
      ]
    },
    {
      "cell_type": "code",
      "source": [
        "final_data = final_data.drop(['IS_FRAUDSTER'], axis = 1)\n",
        "mapping = { 'True': 1, 'No': 0 }\n",
        "final_data['is_bank_holiday'] = final_data['is_bank_holiday'].map(mapping)\n"
      ],
      "metadata": {
        "id": "guZFriAwxjbJ"
      },
      "execution_count": 4,
      "outputs": []
    },
    {
      "cell_type": "code",
      "source": [
        "final_data.info()"
      ],
      "metadata": {
        "colab": {
          "base_uri": "https://localhost:8080/"
        },
        "id": "yT18gPQb_CRX",
        "outputId": "566d45b3-1862-46c7-c4cb-59b01a860703"
      },
      "execution_count": null,
      "outputs": [
        {
          "output_type": "stream",
          "name": "stdout",
          "text": [
            "<class 'pandas.core.frame.DataFrame'>\n",
            "RangeIndex: 1048575 entries, 0 to 1048574\n",
            "Data columns (total 92 columns):\n",
            " #   Column                Non-Null Count    Dtype  \n",
            "---  ------                --------------    -----  \n",
            " 0   ID_transaction        1048575 non-null  int64  \n",
            " 1   USER_ID               1048575 non-null  int64  \n",
            " 2   COUNTRY               1048575 non-null  int64  \n",
            " 3   TYPE                  1048575 non-null  int64  \n",
            " 4   STATE                 1048575 non-null  int64  \n",
            " 5   AMOUNT_GBP            1048575 non-null  float64\n",
            " 6   CURRENCY              1048575 non-null  int64  \n",
            " 7   USER_AGE              1048575 non-null  float64\n",
            " 8   U_AGE_GROUP           1048575 non-null  int64  \n",
            " 9   fraudster             1048575 non-null  int64  \n",
            " 10  is_bank_holiday       450359 non-null   float64\n",
            " 11  hour_of_day_GB        1048575 non-null  int64  \n",
            " 12  month                 1048575 non-null  int64  \n",
            " 13  CURRENCIES            1048575 non-null  int64  \n",
            " 14  T_CREATED_DATE_DAY    1048575 non-null  int64  \n",
            " 15  TRANSACTION_NO        1048575 non-null  int64  \n",
            " 16  TRANSACTION_DAY_NO    1048575 non-null  int64  \n",
            " 17  TRANSACTION_SUM       1048575 non-null  float64\n",
            " 18  TRANSACTION_DAY_SUM   1048575 non-null  float64\n",
            " 19  TOPUP_NO              1048575 non-null  int64  \n",
            " 20  TOPUP_DAY_NO          1048575 non-null  int64  \n",
            " 21  TOPUP_SUM             1048575 non-null  float64\n",
            " 22  TOPUP_DAY_SUM         1048575 non-null  float64\n",
            " 23  CARD_PAYMENT_NO       1048575 non-null  int64  \n",
            " 24  CARD_PAYMENT_DAY_NO   1048575 non-null  int64  \n",
            " 25  CARD_PAYMENT_SUM      1048575 non-null  float64\n",
            " 26  CARD_PAYMENT_DAY_SUM  1048575 non-null  float64\n",
            " 27  FEE_NO                1048575 non-null  int64  \n",
            " 28  FEE_DAY_NO            1048575 non-null  int64  \n",
            " 29  FEE_SUM               1048575 non-null  float64\n",
            " 30  FEE_DAY_SUM           1048575 non-null  float64\n",
            " 31  EXCHANGE_NO           1048575 non-null  int64  \n",
            " 32  EXCHANGE_DAY_NO       1048575 non-null  int64  \n",
            " 33  EXCHANGE_SUM          1048575 non-null  float64\n",
            " 34  EXCHANGE_DAY_SUM      1048575 non-null  float64\n",
            " 35  TRANSFER_NO           1048575 non-null  int64  \n",
            " 36  TRANSFER_DAY_NO       1048575 non-null  int64  \n",
            " 37  TRANSFER_SUM          1048575 non-null  float64\n",
            " 38  TRANSFER_DAY_SUM      1048575 non-null  float64\n",
            " 39  ATM_NO                1048575 non-null  int64  \n",
            " 40  ATM_DAY_NO            1048575 non-null  int64  \n",
            " 41  ATM_SUM               1048575 non-null  float64\n",
            " 42  ATM_DAY_SUM           1048575 non-null  float64\n",
            " 43  COMPLETED_NO          1048575 non-null  int64  \n",
            " 44  COMPLETED_DAY_NO      1048575 non-null  int64  \n",
            " 45  COMPLETED_SUM         1048575 non-null  float64\n",
            " 46  COMPLETED_DAY_SUM     1048575 non-null  float64\n",
            " 47  REVERTED_NO           1048575 non-null  int64  \n",
            " 48  REVERTED_DAY_NO       1048575 non-null  int64  \n",
            " 49  REVERTED_SUM          1048575 non-null  float64\n",
            " 50  REVERTED_DAY_SUM      1048575 non-null  float64\n",
            " 51  FAILED_NO             1048575 non-null  int64  \n",
            " 52  FAILED_DAY_NO         1048575 non-null  int64  \n",
            " 53  FAILED_SUM            1048575 non-null  float64\n",
            " 54  FAILED_DAY_SUM        1048575 non-null  float64\n",
            " 55  DECLINED_NO           1048575 non-null  int64  \n",
            " 56  DECLINED_DAY_NO       1048575 non-null  int64  \n",
            " 57  DECLINED_SUM          1048575 non-null  float64\n",
            " 58  DECLINED_DAY_SUM      1048575 non-null  float64\n",
            " 59  AGE_AT_TRANSACTION    1048575 non-null  int64  \n",
            " 60  IS_TOPUP              1048575 non-null  int64  \n",
            " 61  IS_CARD_PAYMENT       1048575 non-null  int64  \n",
            " 62  IS_FEE                1048575 non-null  int64  \n",
            " 63  IS_EXCHANGE           1048575 non-null  int64  \n",
            " 64  IS_TRANSFER           1048575 non-null  int64  \n",
            " 65  IS_ATM                1048575 non-null  int64  \n",
            " 66  IS_COMPLETED          1048575 non-null  int64  \n",
            " 67  IS_REVERTED           1048575 non-null  int64  \n",
            " 68  IS_FAILED             1048575 non-null  int64  \n",
            " 69  IS_DECLINED           1048575 non-null  int64  \n",
            " 70  LOG_AMOUNT_GBP        1048575 non-null  float64\n",
            " 71  MONEY_IN_GBP          1048575 non-null  float64\n",
            " 72  MONEY_OUT_GBP         1048575 non-null  float64\n",
            " 73  MONEY_IN_ONE          1048575 non-null  int64  \n",
            " 74  MONEY_OUT_ONE         1048575 non-null  int64  \n",
            " 75  MONEY_IN_NO           1048575 non-null  int64  \n",
            " 76  MONEY_IN_DAY_NO       1048575 non-null  int64  \n",
            " 77  MONEY_IN_SUM          1048575 non-null  float64\n",
            " 78  MONEY_IN_DAY_SUM      1048575 non-null  float64\n",
            " 79  MONEY_OUT_NO          1048575 non-null  int64  \n",
            " 80  MONEY_OUT_DAY_NO      1048575 non-null  int64  \n",
            " 81  MONEY_OUT_SUM         1048575 non-null  float64\n",
            " 82  MONEY_OUT_DAY_SUM     1048575 non-null  float64\n",
            " 83  BALANCE_NO            1048575 non-null  int64  \n",
            " 84  BALANCE_DAY_NO        1048575 non-null  int64  \n",
            " 85  BALANCE_SUM           1048575 non-null  float64\n",
            " 86  BALANCE_DAY_SUM       1048575 non-null  float64\n",
            " 87  BALANCE               1048575 non-null  float64\n",
            " 88  year_GB               1048575 non-null  int64  \n",
            " 89  month_GB              1048575 non-null  int64  \n",
            " 90  day_GB                1048575 non-null  int64  \n",
            " 91  hour_GB               1048575 non-null  int64  \n",
            "dtypes: float64(35), int64(57)\n",
            "memory usage: 736.0 MB\n"
          ]
        }
      ]
    },
    {
      "cell_type": "code",
      "source": [
        "# Extract features and target\n",
        "X = final_data.iloc[:, :9]  # Features from columns 0 to 8\n",
        "y = final_data.iloc[:, 9]   # Target in column 9\n",
        "\n",
        "# Convert features to NumPy array\n",
        "X_array = X.values\n",
        "\n",
        "# Normalize the data\n",
        "scaler = StandardScaler()\n",
        "X_normalized = scaler.fit_transform(X_array)\n",
        "\n",
        "# Split the dataset into training and testing sets\n",
        "X_train, X_test, y_train, y_test = train_test_split(X_normalized, y, test_size=0.2, random_state=42)\n",
        "\n",
        "\n",
        "# Print the shapes of the training and testing sets\n",
        "print(\"X_train shape:\", X_train.shape)\n",
        "print(\"X_test shape:\", X_test.shape)\n",
        "print(\"y_train shape:\", y_train.shape)\n",
        "print(\"y_test shape:\", y_test.shape)\n"
      ],
      "metadata": {
        "colab": {
          "base_uri": "https://localhost:8080/"
        },
        "id": "rLViVwa5Cffh",
        "outputId": "6defc5e7-e29f-464a-d390-acf07b566997"
      },
      "execution_count": 5,
      "outputs": [
        {
          "output_type": "stream",
          "name": "stdout",
          "text": [
            "X_train shape: (838860, 9)\n",
            "X_test shape: (209715, 9)\n",
            "y_train shape: (838860,)\n",
            "y_test shape: (209715,)\n"
          ]
        }
      ]
    },
    {
      "cell_type": "code",
      "source": [
        "# Reshape data for LSTM\n",
        "X_train = X_train.reshape(X_train.shape[0], 1, X_train.shape[1])\n",
        "X_test = X_test.reshape(X_test.shape[0], 1, X_test.shape[1])"
      ],
      "metadata": {
        "id": "CLXY85KmDCYG"
      },
      "execution_count": null,
      "outputs": []
    },
    {
      "cell_type": "code",
      "source": [
        "# Build the LSTM model\n",
        "model = Sequential()\n",
        "model.add(LSTM(units=50, input_shape=(X_train.shape[1], X_train.shape[2])))\n",
        "model.add(Dense(units=1))\n",
        "model.compile(optimizer='adam', loss='mean_squared_error')\n",
        "\n",
        "\n"
      ],
      "metadata": {
        "id": "HQ6brU0bCwS8"
      },
      "execution_count": null,
      "outputs": []
    },
    {
      "cell_type": "code",
      "source": [
        "# Train the model\n",
        "model.fit(X_train, y_train, epochs=10, batch_size=32, validation_data=(X_test, y_test))"
      ],
      "metadata": {
        "colab": {
          "base_uri": "https://localhost:8080/",
          "height": 373
        },
        "id": "a88IVln7DIMb",
        "outputId": "df4cdd24-8af2-4a75-eac4-9fe698d18228"
      },
      "execution_count": null,
      "outputs": [
        {
          "output_type": "stream",
          "name": "stdout",
          "text": [
            "Epoch 1/10\n",
            "  482/26215 [..............................] - ETA: 2:08 - loss: 0.0081"
          ]
        },
        {
          "output_type": "error",
          "ename": "KeyboardInterrupt",
          "evalue": "ignored",
          "traceback": [
            "\u001b[0;31m---------------------------------------------------------------------------\u001b[0m",
            "\u001b[0;31mKeyboardInterrupt\u001b[0m                         Traceback (most recent call last)",
            "\u001b[0;32m<ipython-input-12-80ef000548ed>\u001b[0m in \u001b[0;36m<cell line: 2>\u001b[0;34m()\u001b[0m\n\u001b[1;32m      1\u001b[0m \u001b[0;31m# Train the model\u001b[0m\u001b[0;34m\u001b[0m\u001b[0;34m\u001b[0m\u001b[0m\n\u001b[0;32m----> 2\u001b[0;31m \u001b[0mmodel\u001b[0m\u001b[0;34m.\u001b[0m\u001b[0mfit\u001b[0m\u001b[0;34m(\u001b[0m\u001b[0mX_train\u001b[0m\u001b[0;34m,\u001b[0m \u001b[0my_train\u001b[0m\u001b[0;34m,\u001b[0m \u001b[0mepochs\u001b[0m\u001b[0;34m=\u001b[0m\u001b[0;36m10\u001b[0m\u001b[0;34m,\u001b[0m \u001b[0mbatch_size\u001b[0m\u001b[0;34m=\u001b[0m\u001b[0;36m32\u001b[0m\u001b[0;34m,\u001b[0m \u001b[0mvalidation_data\u001b[0m\u001b[0;34m=\u001b[0m\u001b[0;34m(\u001b[0m\u001b[0mX_test\u001b[0m\u001b[0;34m,\u001b[0m \u001b[0my_test\u001b[0m\u001b[0;34m)\u001b[0m\u001b[0;34m)\u001b[0m\u001b[0;34m\u001b[0m\u001b[0;34m\u001b[0m\u001b[0m\n\u001b[0m",
            "\u001b[0;32m/usr/local/lib/python3.10/dist-packages/keras/src/utils/traceback_utils.py\u001b[0m in \u001b[0;36merror_handler\u001b[0;34m(*args, **kwargs)\u001b[0m\n\u001b[1;32m     63\u001b[0m         \u001b[0mfiltered_tb\u001b[0m \u001b[0;34m=\u001b[0m \u001b[0;32mNone\u001b[0m\u001b[0;34m\u001b[0m\u001b[0;34m\u001b[0m\u001b[0m\n\u001b[1;32m     64\u001b[0m         \u001b[0;32mtry\u001b[0m\u001b[0;34m:\u001b[0m\u001b[0;34m\u001b[0m\u001b[0;34m\u001b[0m\u001b[0m\n\u001b[0;32m---> 65\u001b[0;31m             \u001b[0;32mreturn\u001b[0m \u001b[0mfn\u001b[0m\u001b[0;34m(\u001b[0m\u001b[0;34m*\u001b[0m\u001b[0margs\u001b[0m\u001b[0;34m,\u001b[0m \u001b[0;34m**\u001b[0m\u001b[0mkwargs\u001b[0m\u001b[0;34m)\u001b[0m\u001b[0;34m\u001b[0m\u001b[0;34m\u001b[0m\u001b[0m\n\u001b[0m\u001b[1;32m     66\u001b[0m         \u001b[0;32mexcept\u001b[0m \u001b[0mException\u001b[0m \u001b[0;32mas\u001b[0m \u001b[0me\u001b[0m\u001b[0;34m:\u001b[0m\u001b[0;34m\u001b[0m\u001b[0;34m\u001b[0m\u001b[0m\n\u001b[1;32m     67\u001b[0m             \u001b[0mfiltered_tb\u001b[0m \u001b[0;34m=\u001b[0m \u001b[0m_process_traceback_frames\u001b[0m\u001b[0;34m(\u001b[0m\u001b[0me\u001b[0m\u001b[0;34m.\u001b[0m\u001b[0m__traceback__\u001b[0m\u001b[0;34m)\u001b[0m\u001b[0;34m\u001b[0m\u001b[0;34m\u001b[0m\u001b[0m\n",
            "\u001b[0;32m/usr/local/lib/python3.10/dist-packages/keras/src/engine/training.py\u001b[0m in \u001b[0;36mfit\u001b[0;34m(self, x, y, batch_size, epochs, verbose, callbacks, validation_split, validation_data, shuffle, class_weight, sample_weight, initial_epoch, steps_per_epoch, validation_steps, validation_batch_size, validation_freq, max_queue_size, workers, use_multiprocessing)\u001b[0m\n\u001b[1;32m   1811\u001b[0m                             \u001b[0mlogs\u001b[0m \u001b[0;34m=\u001b[0m \u001b[0mtmp_logs\u001b[0m\u001b[0;34m\u001b[0m\u001b[0;34m\u001b[0m\u001b[0m\n\u001b[1;32m   1812\u001b[0m                             \u001b[0mend_step\u001b[0m \u001b[0;34m=\u001b[0m \u001b[0mstep\u001b[0m \u001b[0;34m+\u001b[0m \u001b[0mdata_handler\u001b[0m\u001b[0;34m.\u001b[0m\u001b[0mstep_increment\u001b[0m\u001b[0;34m\u001b[0m\u001b[0;34m\u001b[0m\u001b[0m\n\u001b[0;32m-> 1813\u001b[0;31m                             \u001b[0mcallbacks\u001b[0m\u001b[0;34m.\u001b[0m\u001b[0mon_train_batch_end\u001b[0m\u001b[0;34m(\u001b[0m\u001b[0mend_step\u001b[0m\u001b[0;34m,\u001b[0m \u001b[0mlogs\u001b[0m\u001b[0;34m)\u001b[0m\u001b[0;34m\u001b[0m\u001b[0;34m\u001b[0m\u001b[0m\n\u001b[0m\u001b[1;32m   1814\u001b[0m                             \u001b[0;32mif\u001b[0m \u001b[0mself\u001b[0m\u001b[0;34m.\u001b[0m\u001b[0mstop_training\u001b[0m\u001b[0;34m:\u001b[0m\u001b[0;34m\u001b[0m\u001b[0;34m\u001b[0m\u001b[0m\n\u001b[1;32m   1815\u001b[0m                                 \u001b[0;32mbreak\u001b[0m\u001b[0;34m\u001b[0m\u001b[0;34m\u001b[0m\u001b[0m\n",
            "\u001b[0;32m/usr/local/lib/python3.10/dist-packages/keras/src/callbacks.py\u001b[0m in \u001b[0;36mon_train_batch_end\u001b[0;34m(self, batch, logs)\u001b[0m\n\u001b[1;32m    473\u001b[0m         \"\"\"\n\u001b[1;32m    474\u001b[0m         \u001b[0;32mif\u001b[0m \u001b[0mself\u001b[0m\u001b[0;34m.\u001b[0m\u001b[0m_should_call_train_batch_hooks\u001b[0m\u001b[0;34m:\u001b[0m\u001b[0;34m\u001b[0m\u001b[0;34m\u001b[0m\u001b[0m\n\u001b[0;32m--> 475\u001b[0;31m             \u001b[0mself\u001b[0m\u001b[0;34m.\u001b[0m\u001b[0m_call_batch_hook\u001b[0m\u001b[0;34m(\u001b[0m\u001b[0mModeKeys\u001b[0m\u001b[0;34m.\u001b[0m\u001b[0mTRAIN\u001b[0m\u001b[0;34m,\u001b[0m \u001b[0;34m\"end\"\u001b[0m\u001b[0;34m,\u001b[0m \u001b[0mbatch\u001b[0m\u001b[0;34m,\u001b[0m \u001b[0mlogs\u001b[0m\u001b[0;34m=\u001b[0m\u001b[0mlogs\u001b[0m\u001b[0;34m)\u001b[0m\u001b[0;34m\u001b[0m\u001b[0;34m\u001b[0m\u001b[0m\n\u001b[0m\u001b[1;32m    476\u001b[0m \u001b[0;34m\u001b[0m\u001b[0m\n\u001b[1;32m    477\u001b[0m     \u001b[0;32mdef\u001b[0m \u001b[0mon_test_batch_begin\u001b[0m\u001b[0;34m(\u001b[0m\u001b[0mself\u001b[0m\u001b[0;34m,\u001b[0m \u001b[0mbatch\u001b[0m\u001b[0;34m,\u001b[0m \u001b[0mlogs\u001b[0m\u001b[0;34m=\u001b[0m\u001b[0;32mNone\u001b[0m\u001b[0;34m)\u001b[0m\u001b[0;34m:\u001b[0m\u001b[0;34m\u001b[0m\u001b[0;34m\u001b[0m\u001b[0m\n",
            "\u001b[0;32m/usr/local/lib/python3.10/dist-packages/keras/src/callbacks.py\u001b[0m in \u001b[0;36m_call_batch_hook\u001b[0;34m(self, mode, hook, batch, logs)\u001b[0m\n\u001b[1;32m    320\u001b[0m             \u001b[0mself\u001b[0m\u001b[0;34m.\u001b[0m\u001b[0m_call_batch_begin_hook\u001b[0m\u001b[0;34m(\u001b[0m\u001b[0mmode\u001b[0m\u001b[0;34m,\u001b[0m \u001b[0mbatch\u001b[0m\u001b[0;34m,\u001b[0m \u001b[0mlogs\u001b[0m\u001b[0;34m)\u001b[0m\u001b[0;34m\u001b[0m\u001b[0;34m\u001b[0m\u001b[0m\n\u001b[1;32m    321\u001b[0m         \u001b[0;32melif\u001b[0m \u001b[0mhook\u001b[0m \u001b[0;34m==\u001b[0m \u001b[0;34m\"end\"\u001b[0m\u001b[0;34m:\u001b[0m\u001b[0;34m\u001b[0m\u001b[0;34m\u001b[0m\u001b[0m\n\u001b[0;32m--> 322\u001b[0;31m             \u001b[0mself\u001b[0m\u001b[0;34m.\u001b[0m\u001b[0m_call_batch_end_hook\u001b[0m\u001b[0;34m(\u001b[0m\u001b[0mmode\u001b[0m\u001b[0;34m,\u001b[0m \u001b[0mbatch\u001b[0m\u001b[0;34m,\u001b[0m \u001b[0mlogs\u001b[0m\u001b[0;34m)\u001b[0m\u001b[0;34m\u001b[0m\u001b[0;34m\u001b[0m\u001b[0m\n\u001b[0m\u001b[1;32m    323\u001b[0m         \u001b[0;32melse\u001b[0m\u001b[0;34m:\u001b[0m\u001b[0;34m\u001b[0m\u001b[0;34m\u001b[0m\u001b[0m\n\u001b[1;32m    324\u001b[0m             raise ValueError(\n",
            "\u001b[0;32m/usr/local/lib/python3.10/dist-packages/keras/src/callbacks.py\u001b[0m in \u001b[0;36m_call_batch_end_hook\u001b[0;34m(self, mode, batch, logs)\u001b[0m\n\u001b[1;32m    343\u001b[0m             \u001b[0mself\u001b[0m\u001b[0;34m.\u001b[0m\u001b[0m_batch_times\u001b[0m\u001b[0;34m.\u001b[0m\u001b[0mappend\u001b[0m\u001b[0;34m(\u001b[0m\u001b[0mbatch_time\u001b[0m\u001b[0;34m)\u001b[0m\u001b[0;34m\u001b[0m\u001b[0;34m\u001b[0m\u001b[0m\n\u001b[1;32m    344\u001b[0m \u001b[0;34m\u001b[0m\u001b[0m\n\u001b[0;32m--> 345\u001b[0;31m         \u001b[0mself\u001b[0m\u001b[0;34m.\u001b[0m\u001b[0m_call_batch_hook_helper\u001b[0m\u001b[0;34m(\u001b[0m\u001b[0mhook_name\u001b[0m\u001b[0;34m,\u001b[0m \u001b[0mbatch\u001b[0m\u001b[0;34m,\u001b[0m \u001b[0mlogs\u001b[0m\u001b[0;34m)\u001b[0m\u001b[0;34m\u001b[0m\u001b[0;34m\u001b[0m\u001b[0m\n\u001b[0m\u001b[1;32m    346\u001b[0m \u001b[0;34m\u001b[0m\u001b[0m\n\u001b[1;32m    347\u001b[0m         \u001b[0;32mif\u001b[0m \u001b[0mlen\u001b[0m\u001b[0;34m(\u001b[0m\u001b[0mself\u001b[0m\u001b[0;34m.\u001b[0m\u001b[0m_batch_times\u001b[0m\u001b[0;34m)\u001b[0m \u001b[0;34m>=\u001b[0m \u001b[0mself\u001b[0m\u001b[0;34m.\u001b[0m\u001b[0m_num_batches_for_timing_check\u001b[0m\u001b[0;34m:\u001b[0m\u001b[0;34m\u001b[0m\u001b[0;34m\u001b[0m\u001b[0m\n",
            "\u001b[0;32m/usr/local/lib/python3.10/dist-packages/keras/src/callbacks.py\u001b[0m in \u001b[0;36m_call_batch_hook_helper\u001b[0;34m(self, hook_name, batch, logs)\u001b[0m\n\u001b[1;32m    391\u001b[0m         \u001b[0;32mfor\u001b[0m \u001b[0mcallback\u001b[0m \u001b[0;32min\u001b[0m \u001b[0mself\u001b[0m\u001b[0;34m.\u001b[0m\u001b[0mcallbacks\u001b[0m\u001b[0;34m:\u001b[0m\u001b[0;34m\u001b[0m\u001b[0;34m\u001b[0m\u001b[0m\n\u001b[1;32m    392\u001b[0m             \u001b[0mhook\u001b[0m \u001b[0;34m=\u001b[0m \u001b[0mgetattr\u001b[0m\u001b[0;34m(\u001b[0m\u001b[0mcallback\u001b[0m\u001b[0;34m,\u001b[0m \u001b[0mhook_name\u001b[0m\u001b[0;34m)\u001b[0m\u001b[0;34m\u001b[0m\u001b[0;34m\u001b[0m\u001b[0m\n\u001b[0;32m--> 393\u001b[0;31m             \u001b[0mhook\u001b[0m\u001b[0;34m(\u001b[0m\u001b[0mbatch\u001b[0m\u001b[0;34m,\u001b[0m \u001b[0mlogs\u001b[0m\u001b[0;34m)\u001b[0m\u001b[0;34m\u001b[0m\u001b[0;34m\u001b[0m\u001b[0m\n\u001b[0m\u001b[1;32m    394\u001b[0m \u001b[0;34m\u001b[0m\u001b[0m\n\u001b[1;32m    395\u001b[0m         \u001b[0;32mif\u001b[0m \u001b[0mself\u001b[0m\u001b[0;34m.\u001b[0m\u001b[0m_check_timing\u001b[0m\u001b[0;34m:\u001b[0m\u001b[0;34m\u001b[0m\u001b[0;34m\u001b[0m\u001b[0m\n",
            "\u001b[0;32m/usr/local/lib/python3.10/dist-packages/keras/src/callbacks.py\u001b[0m in \u001b[0;36mon_train_batch_end\u001b[0;34m(self, batch, logs)\u001b[0m\n\u001b[1;32m   1091\u001b[0m \u001b[0;34m\u001b[0m\u001b[0m\n\u001b[1;32m   1092\u001b[0m     \u001b[0;32mdef\u001b[0m \u001b[0mon_train_batch_end\u001b[0m\u001b[0;34m(\u001b[0m\u001b[0mself\u001b[0m\u001b[0;34m,\u001b[0m \u001b[0mbatch\u001b[0m\u001b[0;34m,\u001b[0m \u001b[0mlogs\u001b[0m\u001b[0;34m=\u001b[0m\u001b[0;32mNone\u001b[0m\u001b[0;34m)\u001b[0m\u001b[0;34m:\u001b[0m\u001b[0;34m\u001b[0m\u001b[0;34m\u001b[0m\u001b[0m\n\u001b[0;32m-> 1093\u001b[0;31m         \u001b[0mself\u001b[0m\u001b[0;34m.\u001b[0m\u001b[0m_batch_update_progbar\u001b[0m\u001b[0;34m(\u001b[0m\u001b[0mbatch\u001b[0m\u001b[0;34m,\u001b[0m \u001b[0mlogs\u001b[0m\u001b[0;34m)\u001b[0m\u001b[0;34m\u001b[0m\u001b[0;34m\u001b[0m\u001b[0m\n\u001b[0m\u001b[1;32m   1094\u001b[0m \u001b[0;34m\u001b[0m\u001b[0m\n\u001b[1;32m   1095\u001b[0m     \u001b[0;32mdef\u001b[0m \u001b[0mon_test_batch_end\u001b[0m\u001b[0;34m(\u001b[0m\u001b[0mself\u001b[0m\u001b[0;34m,\u001b[0m \u001b[0mbatch\u001b[0m\u001b[0;34m,\u001b[0m \u001b[0mlogs\u001b[0m\u001b[0;34m=\u001b[0m\u001b[0;32mNone\u001b[0m\u001b[0;34m)\u001b[0m\u001b[0;34m:\u001b[0m\u001b[0;34m\u001b[0m\u001b[0;34m\u001b[0m\u001b[0m\n",
            "\u001b[0;32m/usr/local/lib/python3.10/dist-packages/keras/src/callbacks.py\u001b[0m in \u001b[0;36m_batch_update_progbar\u001b[0;34m(self, batch, logs)\u001b[0m\n\u001b[1;32m   1167\u001b[0m         \u001b[0;32mif\u001b[0m \u001b[0mself\u001b[0m\u001b[0;34m.\u001b[0m\u001b[0mverbose\u001b[0m \u001b[0;34m==\u001b[0m \u001b[0;36m1\u001b[0m\u001b[0;34m:\u001b[0m\u001b[0;34m\u001b[0m\u001b[0;34m\u001b[0m\u001b[0m\n\u001b[1;32m   1168\u001b[0m             \u001b[0;31m# Only block async when verbose = 1.\u001b[0m\u001b[0;34m\u001b[0m\u001b[0;34m\u001b[0m\u001b[0m\n\u001b[0;32m-> 1169\u001b[0;31m             \u001b[0mlogs\u001b[0m \u001b[0;34m=\u001b[0m \u001b[0mtf_utils\u001b[0m\u001b[0;34m.\u001b[0m\u001b[0msync_to_numpy_or_python_type\u001b[0m\u001b[0;34m(\u001b[0m\u001b[0mlogs\u001b[0m\u001b[0;34m)\u001b[0m\u001b[0;34m\u001b[0m\u001b[0;34m\u001b[0m\u001b[0m\n\u001b[0m\u001b[1;32m   1170\u001b[0m             \u001b[0mself\u001b[0m\u001b[0;34m.\u001b[0m\u001b[0mprogbar\u001b[0m\u001b[0;34m.\u001b[0m\u001b[0mupdate\u001b[0m\u001b[0;34m(\u001b[0m\u001b[0mself\u001b[0m\u001b[0;34m.\u001b[0m\u001b[0mseen\u001b[0m\u001b[0;34m,\u001b[0m \u001b[0mlist\u001b[0m\u001b[0;34m(\u001b[0m\u001b[0mlogs\u001b[0m\u001b[0;34m.\u001b[0m\u001b[0mitems\u001b[0m\u001b[0;34m(\u001b[0m\u001b[0;34m)\u001b[0m\u001b[0;34m)\u001b[0m\u001b[0;34m,\u001b[0m \u001b[0mfinalize\u001b[0m\u001b[0;34m=\u001b[0m\u001b[0;32mFalse\u001b[0m\u001b[0;34m)\u001b[0m\u001b[0;34m\u001b[0m\u001b[0;34m\u001b[0m\u001b[0m\n\u001b[1;32m   1171\u001b[0m \u001b[0;34m\u001b[0m\u001b[0m\n",
            "\u001b[0;32m/usr/local/lib/python3.10/dist-packages/keras/src/utils/tf_utils.py\u001b[0m in \u001b[0;36msync_to_numpy_or_python_type\u001b[0;34m(tensors)\u001b[0m\n\u001b[1;32m    692\u001b[0m         \u001b[0;32mreturn\u001b[0m \u001b[0mt\u001b[0m\u001b[0;34m.\u001b[0m\u001b[0mitem\u001b[0m\u001b[0;34m(\u001b[0m\u001b[0;34m)\u001b[0m \u001b[0;32mif\u001b[0m \u001b[0mnp\u001b[0m\u001b[0;34m.\u001b[0m\u001b[0mndim\u001b[0m\u001b[0;34m(\u001b[0m\u001b[0mt\u001b[0m\u001b[0;34m)\u001b[0m \u001b[0;34m==\u001b[0m \u001b[0;36m0\u001b[0m \u001b[0;32melse\u001b[0m \u001b[0mt\u001b[0m\u001b[0;34m\u001b[0m\u001b[0;34m\u001b[0m\u001b[0m\n\u001b[1;32m    693\u001b[0m \u001b[0;34m\u001b[0m\u001b[0m\n\u001b[0;32m--> 694\u001b[0;31m     \u001b[0;32mreturn\u001b[0m \u001b[0mtf\u001b[0m\u001b[0;34m.\u001b[0m\u001b[0mnest\u001b[0m\u001b[0;34m.\u001b[0m\u001b[0mmap_structure\u001b[0m\u001b[0;34m(\u001b[0m\u001b[0m_to_single_numpy_or_python_type\u001b[0m\u001b[0;34m,\u001b[0m \u001b[0mtensors\u001b[0m\u001b[0;34m)\u001b[0m\u001b[0;34m\u001b[0m\u001b[0;34m\u001b[0m\u001b[0m\n\u001b[0m\u001b[1;32m    695\u001b[0m \u001b[0;34m\u001b[0m\u001b[0m\n\u001b[1;32m    696\u001b[0m \u001b[0;34m\u001b[0m\u001b[0m\n",
            "\u001b[0;32m/usr/local/lib/python3.10/dist-packages/tensorflow/python/util/nest.py\u001b[0m in \u001b[0;36mmap_structure\u001b[0;34m(func, *structure, **kwargs)\u001b[0m\n\u001b[1;32m    629\u001b[0m     \u001b[0mValueError\u001b[0m\u001b[0;34m:\u001b[0m \u001b[0mIf\u001b[0m \u001b[0mwrong\u001b[0m \u001b[0mkeyword\u001b[0m \u001b[0marguments\u001b[0m \u001b[0mare\u001b[0m \u001b[0mprovided\u001b[0m\u001b[0;34m.\u001b[0m\u001b[0;34m\u001b[0m\u001b[0;34m\u001b[0m\u001b[0m\n\u001b[1;32m    630\u001b[0m   \"\"\"\n\u001b[0;32m--> 631\u001b[0;31m   return nest_util.map_structure(\n\u001b[0m\u001b[1;32m    632\u001b[0m       \u001b[0mnest_util\u001b[0m\u001b[0;34m.\u001b[0m\u001b[0mModality\u001b[0m\u001b[0;34m.\u001b[0m\u001b[0mCORE\u001b[0m\u001b[0;34m,\u001b[0m \u001b[0mfunc\u001b[0m\u001b[0;34m,\u001b[0m \u001b[0;34m*\u001b[0m\u001b[0mstructure\u001b[0m\u001b[0;34m,\u001b[0m \u001b[0;34m**\u001b[0m\u001b[0mkwargs\u001b[0m\u001b[0;34m\u001b[0m\u001b[0;34m\u001b[0m\u001b[0m\n\u001b[1;32m    633\u001b[0m   )\n",
            "\u001b[0;32m/usr/local/lib/python3.10/dist-packages/tensorflow/python/util/nest_util.py\u001b[0m in \u001b[0;36mmap_structure\u001b[0;34m(modality, func, *structure, **kwargs)\u001b[0m\n\u001b[1;32m   1064\u001b[0m   \"\"\"\n\u001b[1;32m   1065\u001b[0m   \u001b[0;32mif\u001b[0m \u001b[0mmodality\u001b[0m \u001b[0;34m==\u001b[0m \u001b[0mModality\u001b[0m\u001b[0;34m.\u001b[0m\u001b[0mCORE\u001b[0m\u001b[0;34m:\u001b[0m\u001b[0;34m\u001b[0m\u001b[0;34m\u001b[0m\u001b[0m\n\u001b[0;32m-> 1066\u001b[0;31m     \u001b[0;32mreturn\u001b[0m \u001b[0m_tf_core_map_structure\u001b[0m\u001b[0;34m(\u001b[0m\u001b[0mfunc\u001b[0m\u001b[0;34m,\u001b[0m \u001b[0;34m*\u001b[0m\u001b[0mstructure\u001b[0m\u001b[0;34m,\u001b[0m \u001b[0;34m**\u001b[0m\u001b[0mkwargs\u001b[0m\u001b[0;34m)\u001b[0m\u001b[0;34m\u001b[0m\u001b[0;34m\u001b[0m\u001b[0m\n\u001b[0m\u001b[1;32m   1067\u001b[0m   \u001b[0;32melif\u001b[0m \u001b[0mmodality\u001b[0m \u001b[0;34m==\u001b[0m \u001b[0mModality\u001b[0m\u001b[0;34m.\u001b[0m\u001b[0mDATA\u001b[0m\u001b[0;34m:\u001b[0m\u001b[0;34m\u001b[0m\u001b[0;34m\u001b[0m\u001b[0m\n\u001b[1;32m   1068\u001b[0m     \u001b[0;32mreturn\u001b[0m \u001b[0m_tf_data_map_structure\u001b[0m\u001b[0;34m(\u001b[0m\u001b[0mfunc\u001b[0m\u001b[0;34m,\u001b[0m \u001b[0;34m*\u001b[0m\u001b[0mstructure\u001b[0m\u001b[0;34m,\u001b[0m \u001b[0;34m**\u001b[0m\u001b[0mkwargs\u001b[0m\u001b[0;34m)\u001b[0m\u001b[0;34m\u001b[0m\u001b[0;34m\u001b[0m\u001b[0m\n",
            "\u001b[0;32m/usr/local/lib/python3.10/dist-packages/tensorflow/python/util/nest_util.py\u001b[0m in \u001b[0;36m_tf_core_map_structure\u001b[0;34m(func, *structure, **kwargs)\u001b[0m\n\u001b[1;32m   1104\u001b[0m   return _tf_core_pack_sequence_as(\n\u001b[1;32m   1105\u001b[0m       \u001b[0mstructure\u001b[0m\u001b[0;34m[\u001b[0m\u001b[0;36m0\u001b[0m\u001b[0;34m]\u001b[0m\u001b[0;34m,\u001b[0m\u001b[0;34m\u001b[0m\u001b[0;34m\u001b[0m\u001b[0m\n\u001b[0;32m-> 1106\u001b[0;31m       \u001b[0;34m[\u001b[0m\u001b[0mfunc\u001b[0m\u001b[0;34m(\u001b[0m\u001b[0;34m*\u001b[0m\u001b[0mx\u001b[0m\u001b[0;34m)\u001b[0m \u001b[0;32mfor\u001b[0m \u001b[0mx\u001b[0m \u001b[0;32min\u001b[0m \u001b[0mentries\u001b[0m\u001b[0;34m]\u001b[0m\u001b[0;34m,\u001b[0m\u001b[0;34m\u001b[0m\u001b[0;34m\u001b[0m\u001b[0m\n\u001b[0m\u001b[1;32m   1107\u001b[0m       \u001b[0mexpand_composites\u001b[0m\u001b[0;34m=\u001b[0m\u001b[0mexpand_composites\u001b[0m\u001b[0;34m,\u001b[0m\u001b[0;34m\u001b[0m\u001b[0;34m\u001b[0m\u001b[0m\n\u001b[1;32m   1108\u001b[0m   )\n",
            "\u001b[0;32m/usr/local/lib/python3.10/dist-packages/tensorflow/python/util/nest_util.py\u001b[0m in \u001b[0;36m<listcomp>\u001b[0;34m(.0)\u001b[0m\n\u001b[1;32m   1104\u001b[0m   return _tf_core_pack_sequence_as(\n\u001b[1;32m   1105\u001b[0m       \u001b[0mstructure\u001b[0m\u001b[0;34m[\u001b[0m\u001b[0;36m0\u001b[0m\u001b[0;34m]\u001b[0m\u001b[0;34m,\u001b[0m\u001b[0;34m\u001b[0m\u001b[0;34m\u001b[0m\u001b[0m\n\u001b[0;32m-> 1106\u001b[0;31m       \u001b[0;34m[\u001b[0m\u001b[0mfunc\u001b[0m\u001b[0;34m(\u001b[0m\u001b[0;34m*\u001b[0m\u001b[0mx\u001b[0m\u001b[0;34m)\u001b[0m \u001b[0;32mfor\u001b[0m \u001b[0mx\u001b[0m \u001b[0;32min\u001b[0m \u001b[0mentries\u001b[0m\u001b[0;34m]\u001b[0m\u001b[0;34m,\u001b[0m\u001b[0;34m\u001b[0m\u001b[0;34m\u001b[0m\u001b[0m\n\u001b[0m\u001b[1;32m   1107\u001b[0m       \u001b[0mexpand_composites\u001b[0m\u001b[0;34m=\u001b[0m\u001b[0mexpand_composites\u001b[0m\u001b[0;34m,\u001b[0m\u001b[0;34m\u001b[0m\u001b[0;34m\u001b[0m\u001b[0m\n\u001b[1;32m   1108\u001b[0m   )\n",
            "\u001b[0;32m/usr/local/lib/python3.10/dist-packages/keras/src/utils/tf_utils.py\u001b[0m in \u001b[0;36m_to_single_numpy_or_python_type\u001b[0;34m(t)\u001b[0m\n\u001b[1;32m    685\u001b[0m         \u001b[0;31m# Don't turn ragged or sparse tensors to NumPy.\u001b[0m\u001b[0;34m\u001b[0m\u001b[0;34m\u001b[0m\u001b[0m\n\u001b[1;32m    686\u001b[0m         \u001b[0;32mif\u001b[0m \u001b[0misinstance\u001b[0m\u001b[0;34m(\u001b[0m\u001b[0mt\u001b[0m\u001b[0;34m,\u001b[0m \u001b[0mtf\u001b[0m\u001b[0;34m.\u001b[0m\u001b[0mTensor\u001b[0m\u001b[0;34m)\u001b[0m\u001b[0;34m:\u001b[0m\u001b[0;34m\u001b[0m\u001b[0;34m\u001b[0m\u001b[0m\n\u001b[0;32m--> 687\u001b[0;31m             \u001b[0mt\u001b[0m \u001b[0;34m=\u001b[0m \u001b[0mt\u001b[0m\u001b[0;34m.\u001b[0m\u001b[0mnumpy\u001b[0m\u001b[0;34m(\u001b[0m\u001b[0;34m)\u001b[0m\u001b[0;34m\u001b[0m\u001b[0;34m\u001b[0m\u001b[0m\n\u001b[0m\u001b[1;32m    688\u001b[0m         \u001b[0;31m# Strings, ragged and sparse tensors don't have .item(). Return them\u001b[0m\u001b[0;34m\u001b[0m\u001b[0;34m\u001b[0m\u001b[0m\n\u001b[1;32m    689\u001b[0m         \u001b[0;31m# as-is.\u001b[0m\u001b[0;34m\u001b[0m\u001b[0;34m\u001b[0m\u001b[0m\n",
            "\u001b[0;32m/usr/local/lib/python3.10/dist-packages/tensorflow/python/framework/ops.py\u001b[0m in \u001b[0;36mnumpy\u001b[0;34m(self)\u001b[0m\n\u001b[1;32m    392\u001b[0m     \"\"\"\n\u001b[1;32m    393\u001b[0m     \u001b[0;31m# TODO(slebedev): Consider avoiding a copy for non-CPU or remote tensors.\u001b[0m\u001b[0;34m\u001b[0m\u001b[0;34m\u001b[0m\u001b[0m\n\u001b[0;32m--> 394\u001b[0;31m     \u001b[0mmaybe_arr\u001b[0m \u001b[0;34m=\u001b[0m \u001b[0mself\u001b[0m\u001b[0;34m.\u001b[0m\u001b[0m_numpy\u001b[0m\u001b[0;34m(\u001b[0m\u001b[0;34m)\u001b[0m  \u001b[0;31m# pylint: disable=protected-access\u001b[0m\u001b[0;34m\u001b[0m\u001b[0;34m\u001b[0m\u001b[0m\n\u001b[0m\u001b[1;32m    395\u001b[0m     \u001b[0;32mreturn\u001b[0m \u001b[0mmaybe_arr\u001b[0m\u001b[0;34m.\u001b[0m\u001b[0mcopy\u001b[0m\u001b[0;34m(\u001b[0m\u001b[0;34m)\u001b[0m \u001b[0;32mif\u001b[0m \u001b[0misinstance\u001b[0m\u001b[0;34m(\u001b[0m\u001b[0mmaybe_arr\u001b[0m\u001b[0;34m,\u001b[0m \u001b[0mnp\u001b[0m\u001b[0;34m.\u001b[0m\u001b[0mndarray\u001b[0m\u001b[0;34m)\u001b[0m \u001b[0;32melse\u001b[0m \u001b[0mmaybe_arr\u001b[0m\u001b[0;34m\u001b[0m\u001b[0;34m\u001b[0m\u001b[0m\n\u001b[1;32m    396\u001b[0m \u001b[0;34m\u001b[0m\u001b[0m\n",
            "\u001b[0;32m/usr/local/lib/python3.10/dist-packages/tensorflow/python/framework/ops.py\u001b[0m in \u001b[0;36m_numpy\u001b[0;34m(self)\u001b[0m\n\u001b[1;32m    358\u001b[0m   \u001b[0;32mdef\u001b[0m \u001b[0m_numpy\u001b[0m\u001b[0;34m(\u001b[0m\u001b[0mself\u001b[0m\u001b[0;34m)\u001b[0m\u001b[0;34m:\u001b[0m\u001b[0;34m\u001b[0m\u001b[0;34m\u001b[0m\u001b[0m\n\u001b[1;32m    359\u001b[0m     \u001b[0;32mtry\u001b[0m\u001b[0;34m:\u001b[0m\u001b[0;34m\u001b[0m\u001b[0;34m\u001b[0m\u001b[0m\n\u001b[0;32m--> 360\u001b[0;31m       \u001b[0;32mreturn\u001b[0m \u001b[0mself\u001b[0m\u001b[0;34m.\u001b[0m\u001b[0m_numpy_internal\u001b[0m\u001b[0;34m(\u001b[0m\u001b[0;34m)\u001b[0m\u001b[0;34m\u001b[0m\u001b[0;34m\u001b[0m\u001b[0m\n\u001b[0m\u001b[1;32m    361\u001b[0m     \u001b[0;32mexcept\u001b[0m \u001b[0mcore\u001b[0m\u001b[0;34m.\u001b[0m\u001b[0m_NotOkStatusException\u001b[0m \u001b[0;32mas\u001b[0m \u001b[0me\u001b[0m\u001b[0;34m:\u001b[0m  \u001b[0;31m# pylint: disable=protected-access\u001b[0m\u001b[0;34m\u001b[0m\u001b[0;34m\u001b[0m\u001b[0m\n\u001b[1;32m    362\u001b[0m       \u001b[0;32mraise\u001b[0m \u001b[0mcore\u001b[0m\u001b[0;34m.\u001b[0m\u001b[0m_status_to_exception\u001b[0m\u001b[0;34m(\u001b[0m\u001b[0me\u001b[0m\u001b[0;34m)\u001b[0m \u001b[0;32mfrom\u001b[0m \u001b[0;32mNone\u001b[0m  \u001b[0;31m# pylint: disable=protected-access\u001b[0m\u001b[0;34m\u001b[0m\u001b[0;34m\u001b[0m\u001b[0m\n",
            "\u001b[0;31mKeyboardInterrupt\u001b[0m: "
          ]
        }
      ]
    },
    {
      "cell_type": "code",
      "source": [
        "from sklearn.metrics import roc_curve, auc, confusion_matrix\n",
        "# Make predictions on the test set\n",
        "y_pred = model.predict(X_test)\n",
        "\n",
        "# ROC curve\n",
        "fpr, tpr, thresholds = roc_curve(y_test, y_pred)\n",
        "roc_auc = auc(fpr, tpr)\n",
        "\n",
        "# Plot ROC Curve\n",
        "plt.figure(figsize=(8, 8))\n",
        "plt.plot(fpr, tpr, color='darkorange', lw=2, label='ROC curve (area = {:.2f})'.format(roc_auc))\n",
        "plt.plot([0, 1], [0, 1], color='navy', lw=2, linestyle='--')\n",
        "plt.xlim([0.0, 1.0])\n",
        "plt.ylim([0.0, 1.05])\n",
        "plt.xlabel('False Positive Rate')\n",
        "plt.ylabel('True Positive Rate')\n",
        "plt.title('Receiver Operating Characteristic (ROC) Curve')\n",
        "plt.legend(loc='lower right')\n",
        "plt.show()"
      ],
      "metadata": {
        "colab": {
          "base_uri": "https://localhost:8080/",
          "height": 735
        },
        "id": "yRJiWXFO48sO",
        "outputId": "0f86acb6-7475-446a-a4e9-ba6e6024cf6f"
      },
      "execution_count": null,
      "outputs": [
        {
          "output_type": "stream",
          "name": "stdout",
          "text": [
            "6554/6554 [==============================] - 17s 3ms/step\n"
          ]
        },
        {
          "output_type": "display_data",
          "data": {
            "text/plain": [
              "<Figure size 800x800 with 1 Axes>"
            ],
            "image/png": "[encoded data removed]"
          },
          "metadata": {}
        }
      ]
    },
    {
      "cell_type": "code",
      "source": [
        "# Confusion Matrix\n",
        "threshold = 0.5  # You can adjust this threshold based on your specific needs\n",
        "y_pred_binary = (y_pred > threshold).astype(int)\n",
        "conf_matrix = confusion_matrix(y_test, y_pred_binary)\n",
        "\n",
        "\n",
        "# Display Confusion Matrix\n",
        "print(\"Confusion Matrix:\")\n",
        "print(conf_matrix)"
      ],
      "metadata": {
        "colab": {
          "base_uri": "https://localhost:8080/"
        },
        "id": "jYaoJ0cBDg9I",
        "outputId": "469d20d9-e1e7-4c2f-afd4-7cba62b7af05"
      },
      "execution_count": null,
      "outputs": [
        {
          "output_type": "stream",
          "name": "stdout",
          "text": [
            "Confusion Matrix:\n",
            "[[208059     27]\n",
            " [  1562     67]]\n"
          ]
        }
      ]
    },
    {
      "cell_type": "code",
      "source": [
        "# Confusion Matrix\n",
        "threshold = 0.6  # You can adjust this threshold based on your specific needs\n",
        "y_pred_binary = (y_pred > threshold).astype(int)\n",
        "conf_matrix = confusion_matrix(y_test, y_pred_binary)\n",
        "\n",
        "\n",
        "# Display Confusion Matrix\n",
        "print(\"Confusion Matrix:\")\n",
        "print(conf_matrix)"
      ],
      "metadata": {
        "colab": {
          "base_uri": "https://localhost:8080/"
        },
        "id": "WUIMIlvKJmsL",
        "outputId": "d15e228e-080b-4e0b-e239-c9a644815e02"
      },
      "execution_count": null,
      "outputs": [
        {
          "output_type": "stream",
          "name": "stdout",
          "text": [
            "Confusion Matrix:\n",
            "[[208072     14]\n",
            " [  1605     24]]\n"
          ]
        }
      ]
    },
    {
      "cell_type": "code",
      "source": [
        "# Confusion Matrix\n",
        "threshold = 0.7  # You can adjust this threshold based on your specific needs\n",
        "y_pred_binary = (y_pred > threshold).astype(int)\n",
        "conf_matrix = confusion_matrix(y_test, y_pred_binary)\n",
        "\n",
        "\n",
        "# Display Confusion Matrix\n",
        "print(\"Confusion Matrix:\")\n",
        "print(conf_matrix)"
      ],
      "metadata": {
        "colab": {
          "base_uri": "https://localhost:8080/"
        },
        "id": "qWGfpZ5VJon6",
        "outputId": "02ae5056-2503-4ee3-cd72-755dcc6e7278"
      },
      "execution_count": null,
      "outputs": [
        {
          "output_type": "stream",
          "name": "stdout",
          "text": [
            "Confusion Matrix:\n",
            "[[208082      4]\n",
            " [  1622      7]]\n"
          ]
        }
      ]
    },
    {
      "cell_type": "code",
      "source": [
        "# Build the LSTM model\n",
        "model = Sequential()\n",
        "model.add(LSTM(units=128, input_shape=(X_train.shape[1], X_train.shape[2])))\n",
        "model.add(Dense(units=1))\n",
        "model.compile(optimizer='adam', loss='mean_squared_error')\n"
      ],
      "metadata": {
        "id": "gnRtNp7mJri7"
      },
      "execution_count": null,
      "outputs": []
    },
    {
      "cell_type": "code",
      "source": [
        "# Train the model\n",
        "model.fit(X_train, y_train, epochs=10, batch_size=32, validation_data=(X_test, y_test))"
      ],
      "metadata": {
        "colab": {
          "base_uri": "https://localhost:8080/"
        },
        "id": "0HD8dyExJ5Ps",
        "outputId": "1798e3df-f60a-4c91-d6e2-eab2935646b6"
      },
      "execution_count": null,
      "outputs": [
        {
          "output_type": "stream",
          "name": "stdout",
          "text": [
            "Epoch 1/10\n",
            "26215/26215 [==============================] - 184s 5ms/step - loss: 0.0074 - val_loss: 0.0075\n",
            "Epoch 2/10\n",
            "26215/26215 [==============================] - 138s 5ms/step - loss: 0.0073 - val_loss: 0.0074\n",
            "Epoch 3/10\n",
            "26215/26215 [==============================] - 133s 5ms/step - loss: 0.0072 - val_loss: 0.0073\n",
            "Epoch 4/10\n",
            "26215/26215 [==============================] - 140s 5ms/step - loss: 0.0071 - val_loss: 0.0072\n",
            "Epoch 5/10\n",
            "26215/26215 [==============================] - 140s 5ms/step - loss: 0.0071 - val_loss: 0.0072\n",
            "Epoch 6/10\n",
            "26215/26215 [==============================] - 141s 5ms/step - loss: 0.0070 - val_loss: 0.0072\n",
            "Epoch 7/10\n",
            "26215/26215 [==============================] - 131s 5ms/step - loss: 0.0070 - val_loss: 0.0071\n",
            "Epoch 8/10\n",
            "26215/26215 [==============================] - 134s 5ms/step - loss: 0.0070 - val_loss: 0.0071\n",
            "Epoch 9/10\n",
            "26215/26215 [==============================] - 129s 5ms/step - loss: 0.0070 - val_loss: 0.0071\n",
            "Epoch 10/10\n",
            "26215/26215 [==============================] - 144s 5ms/step - loss: 0.0069 - val_loss: 0.0071\n"
          ]
        },
        {
          "output_type": "execute_result",
          "data": {
            "text/plain": [
              "<keras.src.callbacks.History at 0x7a9dd841ee30>"
            ]
          },
          "metadata": {},
          "execution_count": 33
        }
      ]
    },
    {
      "cell_type": "code",
      "source": [
        "# Confusion Matrix\n",
        "threshold = 0.5  # You can adjust this threshold based on your specific needs\n",
        "y_pred_binary = (y_pred > threshold).astype(int)\n",
        "conf_matrix = confusion_matrix(y_test, y_pred_binary)\n",
        "\n",
        "\n",
        "# Display Confusion Matrix\n",
        "print(\"Confusion Matrix:\")\n",
        "print(conf_matrix)"
      ],
      "metadata": {
        "colab": {
          "base_uri": "https://localhost:8080/"
        },
        "id": "kIJ_MhsxJ8gu",
        "outputId": "def243b3-36d0-4500-908f-3c8b1c3ec4c9"
      },
      "execution_count": null,
      "outputs": [
        {
          "output_type": "stream",
          "name": "stdout",
          "text": [
            "Confusion Matrix:\n",
            "[[208059     27]\n",
            " [  1562     67]]\n"
          ]
        }
      ]
    },
    {
      "cell_type": "code",
      "source": [
        "# Confusion Matrix\n",
        "threshold = 0.6  # You can adjust this threshold based on your specific needs\n",
        "y_pred_binary = (y_pred > threshold).astype(int)\n",
        "conf_matrix = confusion_matrix(y_test, y_pred_binary)\n",
        "\n",
        "\n",
        "# Display Confusion Matrix\n",
        "print(\"Confusion Matrix:\")\n",
        "print(conf_matrix)"
      ],
      "metadata": {
        "colab": {
          "base_uri": "https://localhost:8080/"
        },
        "id": "4ihvR4FCPRi9",
        "outputId": "480b956d-eaac-4446-b4b9-d5dd43505461"
      },
      "execution_count": null,
      "outputs": [
        {
          "output_type": "stream",
          "name": "stdout",
          "text": [
            "Confusion Matrix:\n",
            "[[208072     14]\n",
            " [  1605     24]]\n"
          ]
        }
      ]
    },
    {
      "cell_type": "code",
      "source": [
        "# Confusion Matrix\n",
        "threshold = 0.7  # You can adjust this threshold based on your specific needs\n",
        "y_pred_binary = (y_pred > threshold).astype(int)\n",
        "conf_matrix = confusion_matrix(y_test, y_pred_binary)\n",
        "\n",
        "\n",
        "# Display Confusion Matrix\n",
        "print(\"Confusion Matrix:\")\n",
        "print(conf_matrix)"
      ],
      "metadata": {
        "colab": {
          "base_uri": "https://localhost:8080/"
        },
        "id": "PPEmHq9FPTkt",
        "outputId": "5dd05909-8a92-4375-b8e3-57e4928ad3cb"
      },
      "execution_count": null,
      "outputs": [
        {
          "output_type": "stream",
          "name": "stdout",
          "text": [
            "Confusion Matrix:\n",
            "[[208082      4]\n",
            " [  1622      7]]\n"
          ]
        }
      ]
    },
    {
      "cell_type": "code",
      "source": [
        "from sklearn.metrics import roc_curve, auc, confusion_matrix\n",
        "# Make predictions on the test set\n",
        "y_pred = model.predict(X_test)\n",
        "\n",
        "# ROC curve\n",
        "fpr, tpr, thresholds = roc_curve(y_test, y_pred)\n",
        "roc_auc = auc(fpr, tpr)\n",
        "\n",
        "# Plot ROC Curve\n",
        "plt.figure(figsize=(4, 4))\n",
        "plt.plot(fpr, tpr, color='darkorange', lw=2, label='ROC curve (area = {:.2f})'.format(roc_auc))\n",
        "plt.plot([0, 1], [0, 1], color='navy', lw=2, linestyle='--')\n",
        "plt.xlim([0.0, 1.0])\n",
        "plt.ylim([0.0, 1.05])\n",
        "plt.xlabel('False Positive Rate')\n",
        "plt.ylabel('True Positive Rate')\n",
        "plt.title('Receiver Operating Characteristic (ROC) Curve')\n",
        "plt.legend(loc='lower right')\n",
        "plt.show()"
      ],
      "metadata": {
        "colab": {
          "base_uri": "https://localhost:8080/",
          "height": 427
        },
        "id": "xlm3-lARPYL4",
        "outputId": "0681348a-0f90-4639-ff87-f3c4e8047e47"
      },
      "execution_count": null,
      "outputs": [
        {
          "output_type": "stream",
          "name": "stdout",
          "text": [
            "6554/6554 [==============================] - 19s 3ms/step\n"
          ]
        },
        {
          "output_type": "display_data",
          "data": {
            "text/plain": [
              "<Figure size 400x400 with 1 Axes>"
            ],
            "image/png": "[encoded data removed]"
          },
          "metadata": {}
        }
      ]
    },
    {
      "cell_type": "code",
      "source": [
        "final_data = final_data.drop(['IS_FRAUDSTER'], axis = 1)\n",
        "mapping = { 'True': 1, 'No': 0 }\n",
        "final_data['is_bank_holiday'] = final_data['is_bank_holiday'].map(mapping)\n",
        "\n",
        "# Extract features and target\n",
        "X = final_data.iloc[:, :9]  # Features from columns 0 to 8\n",
        "y = final_data.iloc[:, 9]   # Target in column 9\n",
        "\n",
        "# Convert features to NumPy array\n",
        "X_array = X.values\n",
        "\n",
        "# Normalize the data\n",
        "scaler = StandardScaler()\n",
        "X_normalized = scaler.fit_transform(X_array)\n",
        "\n",
        "# Split the dataset into training and testing sets\n",
        "X_train, X_test, y_train, y_test = train_test_split(X_normalized, y, test_size=0.2, random_state=42)\n",
        "\n",
        "# Reshape data for LSTM\n",
        "X_train = X_train.reshape(X_train.shape[0], 1, X_train.shape[1])\n",
        "X_test = X_test.reshape(X_test.shape[0], 1, X_test.shape[1])\n",
        "# Build the LSTM model\n",
        "model = Sequential()\n",
        "model.add(LSTM(units=128, input_shape=(X_train.shape[1], X_train.shape[2]), return_sequences=True))\n",
        "model.add(LSTM(units=128, return_sequences=True))\n",
        "model.add(LSTM(units=64))\n",
        "model.add(Dense(units=1, activation='sigmoid'))\n",
        "model.compile(optimizer='adam', loss='mean_squared_error')\n",
        "# Train the model\n",
        "model.fit(X_train, y_train, epochs=10, batch_size=32, validation_data=(X_test, y_test))"
      ],
      "metadata": {
        "colab": {
          "base_uri": "https://localhost:8080/"
        },
        "id": "0iHkjBnHP-2C",
        "outputId": "9da5d3ec-5324-4f44-dd05-a77b0c697106"
      },
      "execution_count": null,
      "outputs": [
        {
          "output_type": "stream",
          "name": "stdout",
          "text": [
            "Epoch 1/10\n",
            "26215/26215 [==============================] - 314s 12ms/step - loss: 0.0076 - val_loss: 0.0073\n",
            "Epoch 2/10\n",
            "26215/26215 [==============================] - 319s 12ms/step - loss: 0.0071 - val_loss: 0.0071\n",
            "Epoch 3/10\n",
            "26215/26215 [==============================] - 296s 11ms/step - loss: 0.0070 - val_loss: 0.0071\n",
            "Epoch 4/10\n",
            "26215/26215 [==============================] - 296s 11ms/step - loss: 0.0069 - val_loss: 0.0070\n",
            "Epoch 5/10\n",
            "26215/26215 [==============================] - 294s 11ms/step - loss: 0.0068 - val_loss: 0.0070\n",
            "Epoch 6/10\n",
            "26215/26215 [==============================] - 316s 12ms/step - loss: 0.0068 - val_loss: 0.0070\n",
            "Epoch 7/10\n",
            "26215/26215 [==============================] - 342s 13ms/step - loss: 0.0067 - val_loss: 0.0069\n",
            "Epoch 8/10\n",
            "26215/26215 [==============================] - 295s 11ms/step - loss: 0.0067 - val_loss: 0.0069\n",
            "Epoch 9/10\n",
            "26215/26215 [==============================] - 300s 11ms/step - loss: 0.0067 - val_loss: 0.0069\n",
            "Epoch 10/10\n",
            "26215/26215 [==============================] - 315s 12ms/step - loss: 0.0066 - val_loss: 0.0069\n"
          ]
        },
        {
          "output_type": "execute_result",
          "data": {
            "text/plain": [
              "<keras.src.callbacks.History at 0x790bf44c7ca0>"
            ]
          },
          "metadata": {},
          "execution_count": 9
        }
      ]
    },
    {
      "cell_type": "code",
      "source": [
        "from sklearn.metrics import roc_curve, auc, confusion_matrix\n",
        "# Make predictions on the test set\n",
        "y_pred = model.predict(X_test)\n",
        "\n",
        "# ROC curve\n",
        "fpr, tpr, thresholds = roc_curve(y_test, y_pred)\n",
        "roc_auc = auc(fpr, tpr)\n",
        "\n",
        "# Plot ROC Curve\n",
        "plt.figure(figsize=(4, 4))\n",
        "plt.plot(fpr, tpr, color='darkorange', lw=2, label='ROC curve (area = {:.2f})'.format(roc_auc))\n",
        "plt.plot([0, 1], [0, 1], color='navy', lw=2, linestyle='--')\n",
        "plt.xlim([0.0, 1.0])\n",
        "plt.ylim([0.0, 1.05])\n",
        "plt.xlabel('False Positive Rate')\n",
        "plt.ylabel('True Positive Rate')\n",
        "plt.title('Receiver Operating Characteristic (ROC) Curve')\n",
        "plt.legend(loc='lower right')\n",
        "plt.show()"
      ],
      "metadata": {
        "colab": {
          "base_uri": "https://localhost:8080/",
          "height": 427
        },
        "id": "bSlO_EEWQlIc",
        "outputId": "e20e3422-13f5-4aeb-fecc-c63e06ca6fa2"
      },
      "execution_count": null,
      "outputs": [
        {
          "output_type": "stream",
          "name": "stdout",
          "text": [
            "6554/6554 [==============================] - 25s 4ms/step\n"
          ]
        },
        {
          "output_type": "display_data",
          "data": {
            "text/plain": [
              "<Figure size 400x400 with 1 Axes>"
            ],
            "image/png": "[encoded data removed]"
          },
          "metadata": {}
        }
      ]
    },
    {
      "cell_type": "code",
      "source": [
        "# Confusion Matrix\n",
        "threshold = 0.5\n",
        "y_pred_binary = (y_pred > threshold).astype(int)\n",
        "conf_matrix = confusion_matrix(y_test, y_pred_binary)\n",
        "\n",
        "\n",
        "# Display Confusion Matrix\n",
        "print(\"Confusion Matrix:\")\n",
        "print(conf_matrix)"
      ],
      "metadata": {
        "colab": {
          "base_uri": "https://localhost:8080/"
        },
        "id": "hEaSkjnhiNvi",
        "outputId": "ee376e82-49bb-4e2c-c8c0-6e99d6daa092"
      },
      "execution_count": null,
      "outputs": [
        {
          "output_type": "stream",
          "name": "stdout",
          "text": [
            "Confusion Matrix:\n",
            "[[208020     66]\n",
            " [  1503    126]]\n"
          ]
        }
      ]
    },
    {
      "cell_type": "code",
      "source": [
        "# Confusion Matrix\n",
        "threshold = 0.6\n",
        "y_pred_binary = (y_pred > threshold).astype(int)\n",
        "conf_matrix = confusion_matrix(y_test, y_pred_binary)\n",
        "\n",
        "\n",
        "# Display Confusion Matrix\n",
        "print(\"Confusion Matrix:\")\n",
        "print(conf_matrix)"
      ],
      "metadata": {
        "colab": {
          "base_uri": "https://localhost:8080/"
        },
        "id": "6RX0Sc-Pmv5E",
        "outputId": "1ef8a4fd-fdfb-40c7-af64-89be82e81796"
      },
      "execution_count": null,
      "outputs": [
        {
          "output_type": "stream",
          "name": "stdout",
          "text": [
            "Confusion Matrix:\n",
            "[[208055     31]\n",
            " [  1558     71]]\n"
          ]
        }
      ]
    },
    {
      "cell_type": "code",
      "source": [
        "# Confusion Matrix\n",
        "threshold = 0.7\n",
        "y_pred_binary = (y_pred > threshold).astype(int)\n",
        "conf_matrix = confusion_matrix(y_test, y_pred_binary)\n",
        "\n",
        "\n",
        "# Display Confusion Matrix\n",
        "print(\"Confusion Matrix:\")\n",
        "print(conf_matrix)"
      ],
      "metadata": {
        "colab": {
          "base_uri": "https://localhost:8080/"
        },
        "id": "BFfIhIfemx60",
        "outputId": "05a25fb4-5a9e-4262-fdae-e7ee419868c4"
      },
      "execution_count": null,
      "outputs": [
        {
          "output_type": "stream",
          "name": "stdout",
          "text": [
            "Confusion Matrix:\n",
            "[[208069     17]\n",
            " [  1578     51]]\n"
          ]
        }
      ]
    },
    {
      "cell_type": "code",
      "source": [
        "final_data.head(1).iloc[:, 88:]"
      ],
      "metadata": {
        "colab": {
          "base_uri": "https://localhost:8080/",
          "height": 81
        },
        "id": "B_XNgLeZm400",
        "outputId": "f4352973-1886-485b-d8e8-33deca0e7b74"
      },
      "execution_count": null,
      "outputs": [
        {
          "output_type": "execute_result",
          "data": {
            "text/plain": [
              "   year_GB  month_GB  day_GB  hour_GB\n",
              "0     2019         4      20       19"
            ],
            "text/html": [
              "\n",
              "  <div id=\"df-edf381c6-da07-48b2-ad03-445ad1097204\" class=\"colab-df-container\">\n",
              "    <div>\n",
              "<style scoped>\n",
              "    .dataframe tbody tr th:only-of-type {\n",
              "        vertical-align: middle;\n",
              "    }\n",
              "\n",
              "    .dataframe tbody tr th {\n",
              "        vertical-align: top;\n",
              "    }\n",
              "\n",
              "    .dataframe thead th {\n",
              "        text-align: right;\n",
              "    }\n",
              "</style>\n",
              "<table border=\"1\" class=\"dataframe\">\n",
              "  <thead>\n",
              "    <tr style=\"text-align: right;\">\n",
              "      <th></th>\n",
              "      <th>year_GB</th>\n",
              "      <th>month_GB</th>\n",
              "      <th>day_GB</th>\n",
              "      <th>hour_GB</th>\n",
              "    </tr>\n",
              "  </thead>\n",
              "  <tbody>\n",
              "    <tr>\n",
              "      <th>0</th>\n",
              "      <td>2019</td>\n",
              "      <td>4</td>\n",
              "      <td>20</td>\n",
              "      <td>19</td>\n",
              "    </tr>\n",
              "  </tbody>\n",
              "</table>\n",
              "</div>\n",
              "    <div class=\"colab-df-buttons\">\n",
              "\n",
              "  <div class=\"colab-df-container\">\n",
              "    <button class=\"colab-df-convert\" onclick=\"convertToInteractive('df-edf381c6-da07-48b2-ad03-445ad1097204')\"\n",
              "            title=\"Convert this dataframe to an interactive table.\"\n",
              "            style=\"display:none;\">\n",
              "\n",
              "  <svg xmlns=\"http://www.w3.org/2000/svg\" height=\"24px\" viewBox=\"0 -960 960 960\">\n",
              "    <path d=\"M120-120v-720h720v720H120Zm60-500h600v-160H180v160Zm220 220h160v-160H400v160Zm0 220h160v-160H400v160ZM180-400h160v-160H180v160Zm440 0h160v-160H620v160ZM180-180h160v-160H180v160Zm440 0h160v-160H620v160Z\"/>\n",
              "  </svg>\n",
              "    </button>\n",
              "\n",
              "  <style>\n",
              "    .colab-df-container {\n",
              "      display:flex;\n",
              "      gap: 12px;\n",
              "    }\n",
              "\n",
              "    .colab-df-convert {\n",
              "      background-color: #E8F0FE;\n",
              "      border: none;\n",
              "      border-radius: 50%;\n",
              "      cursor: pointer;\n",
              "      display: none;\n",
              "      fill: #1967D2;\n",
              "      height: 32px;\n",
              "      padding: 0 0 0 0;\n",
              "      width: 32px;\n",
              "    }\n",
              "\n",
              "    .colab-df-convert:hover {\n",
              "      background-color: #E2EBFA;\n",
              "      box-shadow: 0px 1px 2px rgba(60, 64, 67, 0.3), 0px 1px 3px 1px rgba(60, 64, 67, 0.15);\n",
              "      fill: #174EA6;\n",
              "    }\n",
              "\n",
              "    .colab-df-buttons div {\n",
              "      margin-bottom: 4px;\n",
              "    }\n",
              "\n",
              "    [theme=dark] .colab-df-convert {\n",
              "      background-color: #3B4455;\n",
              "      fill: #D2E3FC;\n",
              "    }\n",
              "\n",
              "    [theme=dark] .colab-df-convert:hover {\n",
              "      background-color: #434B5C;\n",
              "      box-shadow: 0px 1px 3px 1px rgba(0, 0, 0, 0.15);\n",
              "      filter: drop-shadow(0px 1px 2px rgba(0, 0, 0, 0.3));\n",
              "      fill: #FFFFFF;\n",
              "    }\n",
              "  </style>\n",
              "\n",
              "    <script>\n",
              "      const buttonEl =\n",
              "        document.querySelector('#df-edf381c6-da07-48b2-ad03-445ad1097204 button.colab-df-convert');\n",
              "      buttonEl.style.display =\n",
              "        google.colab.kernel.accessAllowed ? 'block' : 'none';\n",
              "\n",
              "      async function convertToInteractive(key) {\n",
              "        const element = document.querySelector('#df-edf381c6-da07-48b2-ad03-445ad1097204');\n",
              "        const dataTable =\n",
              "          await google.colab.kernel.invokeFunction('convertToInteractive',\n",
              "                                                    [key], {});\n",
              "        if (!dataTable) return;\n",
              "\n",
              "        const docLinkHtml = 'Like what you see? Visit the ' +\n",
              "          '<a target=\"_blank\" href=https://colab.research.google.com/notebooks/data_table.ipynb>data table notebook</a>'\n",
              "          + ' to learn more about interactive tables.';\n",
              "        element.innerHTML = '';\n",
              "        dataTable['output_type'] = 'display_data';\n",
              "        await google.colab.output.renderOutput(dataTable, element);\n",
              "        const docLink = document.createElement('div');\n",
              "        docLink.innerHTML = docLinkHtml;\n",
              "        element.appendChild(docLink);\n",
              "      }\n",
              "    </script>\n",
              "  </div>\n",
              "\n",
              "    </div>\n",
              "  </div>\n"
            ]
          },
          "metadata": {},
          "execution_count": 18
        }
      ]
    },
    {
      "cell_type": "code",
      "source": [
        "transaction_path = '/content/drive/MyDrive/Colab Notebooks/Applied AI/DL/FraudDataset/transactions.xlsx'\n",
        "transactions = pd.read_excel(transaction_path)"
      ],
      "metadata": {
        "id": "8WvrAe1UpMCX"
      },
      "execution_count": null,
      "outputs": []
    },
    {
      "cell_type": "code",
      "source": [
        "# created date for transactions\n",
        "transactions['CREATED_DATE'] = pd.to_datetime(transactions['CREATED_DATE'])"
      ],
      "metadata": {
        "id": "t_nioQxV2J1e"
      },
      "execution_count": null,
      "outputs": []
    },
    {
      "cell_type": "code",
      "source": [
        "transactions.head(1)"
      ],
      "metadata": {
        "colab": {
          "base_uri": "https://localhost:8080/",
          "height": 81
        },
        "id": "muKmlyhT28eR",
        "outputId": "d46d0314-b898-417f-f7e1-aa0686121ab2"
      },
      "execution_count": null,
      "outputs": [
        {
          "output_type": "execute_result",
          "data": {
            "text/plain": [
              "                                     ID                               USER_ID  \\\n",
              "0  f659b44e-cfdf-48de-bcf3-06f47ef26e9f  fd7f3ff6-0ed6-4a85-a7b5-2f205e0ef72f   \n",
              "\n",
              "             CREATED_DATE          TYPE      STATE  AMOUNT_GBP CURRENCY  \n",
              "0 2019-04-20 18:04:03.930  CARD_PAYMENT  COMPLETED       13.12      PLN  "
            ],
            "text/html": [
              "\n",
              "  <div id=\"df-5d34a4f6-b3fa-47b9-9d60-cc634c9f8217\" class=\"colab-df-container\">\n",
              "    <div>\n",
              "<style scoped>\n",
              "    .dataframe tbody tr th:only-of-type {\n",
              "        vertical-align: middle;\n",
              "    }\n",
              "\n",
              "    .dataframe tbody tr th {\n",
              "        vertical-align: top;\n",
              "    }\n",
              "\n",
              "    .dataframe thead th {\n",
              "        text-align: right;\n",
              "    }\n",
              "</style>\n",
              "<table border=\"1\" class=\"dataframe\">\n",
              "  <thead>\n",
              "    <tr style=\"text-align: right;\">\n",
              "      <th></th>\n",
              "      <th>ID</th>\n",
              "      <th>USER_ID</th>\n",
              "      <th>CREATED_DATE</th>\n",
              "      <th>TYPE</th>\n",
              "      <th>STATE</th>\n",
              "      <th>AMOUNT_GBP</th>\n",
              "      <th>CURRENCY</th>\n",
              "    </tr>\n",
              "  </thead>\n",
              "  <tbody>\n",
              "    <tr>\n",
              "      <th>0</th>\n",
              "      <td>f659b44e-cfdf-48de-bcf3-06f47ef26e9f</td>\n",
              "      <td>fd7f3ff6-0ed6-4a85-a7b5-2f205e0ef72f</td>\n",
              "      <td>2019-04-20 18:04:03.930</td>\n",
              "      <td>CARD_PAYMENT</td>\n",
              "      <td>COMPLETED</td>\n",
              "      <td>13.12</td>\n",
              "      <td>PLN</td>\n",
              "    </tr>\n",
              "  </tbody>\n",
              "</table>\n",
              "</div>\n",
              "    <div class=\"colab-df-buttons\">\n",
              "\n",
              "  <div class=\"colab-df-container\">\n",
              "    <button class=\"colab-df-convert\" onclick=\"convertToInteractive('df-5d34a4f6-b3fa-47b9-9d60-cc634c9f8217')\"\n",
              "            title=\"Convert this dataframe to an interactive table.\"\n",
              "            style=\"display:none;\">\n",
              "\n",
              "  <svg xmlns=\"http://www.w3.org/2000/svg\" height=\"24px\" viewBox=\"0 -960 960 960\">\n",
              "    <path d=\"M120-120v-720h720v720H120Zm60-500h600v-160H180v160Zm220 220h160v-160H400v160Zm0 220h160v-160H400v160ZM180-400h160v-160H180v160Zm440 0h160v-160H620v160ZM180-180h160v-160H180v160Zm440 0h160v-160H620v160Z\"/>\n",
              "  </svg>\n",
              "    </button>\n",
              "\n",
              "  <style>\n",
              "    .colab-df-container {\n",
              "      display:flex;\n",
              "      gap: 12px;\n",
              "    }\n",
              "\n",
              "    .colab-df-convert {\n",
              "      background-color: #E8F0FE;\n",
              "      border: none;\n",
              "      border-radius: 50%;\n",
              "      cursor: pointer;\n",
              "      display: none;\n",
              "      fill: #1967D2;\n",
              "      height: 32px;\n",
              "      padding: 0 0 0 0;\n",
              "      width: 32px;\n",
              "    }\n",
              "\n",
              "    .colab-df-convert:hover {\n",
              "      background-color: #E2EBFA;\n",
              "      box-shadow: 0px 1px 2px rgba(60, 64, 67, 0.3), 0px 1px 3px 1px rgba(60, 64, 67, 0.15);\n",
              "      fill: #174EA6;\n",
              "    }\n",
              "\n",
              "    .colab-df-buttons div {\n",
              "      margin-bottom: 4px;\n",
              "    }\n",
              "\n",
              "    [theme=dark] .colab-df-convert {\n",
              "      background-color: #3B4455;\n",
              "      fill: #D2E3FC;\n",
              "    }\n",
              "\n",
              "    [theme=dark] .colab-df-convert:hover {\n",
              "      background-color: #434B5C;\n",
              "      box-shadow: 0px 1px 3px 1px rgba(0, 0, 0, 0.15);\n",
              "      filter: drop-shadow(0px 1px 2px rgba(0, 0, 0, 0.3));\n",
              "      fill: #FFFFFF;\n",
              "    }\n",
              "  </style>\n",
              "\n",
              "    <script>\n",
              "      const buttonEl =\n",
              "        document.querySelector('#df-5d34a4f6-b3fa-47b9-9d60-cc634c9f8217 button.colab-df-convert');\n",
              "      buttonEl.style.display =\n",
              "        google.colab.kernel.accessAllowed ? 'block' : 'none';\n",
              "\n",
              "      async function convertToInteractive(key) {\n",
              "        const element = document.querySelector('#df-5d34a4f6-b3fa-47b9-9d60-cc634c9f8217');\n",
              "        const dataTable =\n",
              "          await google.colab.kernel.invokeFunction('convertToInteractive',\n",
              "                                                    [key], {});\n",
              "        if (!dataTable) return;\n",
              "\n",
              "        const docLinkHtml = 'Like what you see? Visit the ' +\n",
              "          '<a target=\"_blank\" href=https://colab.research.google.com/notebooks/data_table.ipynb>data table notebook</a>'\n",
              "          + ' to learn more about interactive tables.';\n",
              "        element.innerHTML = '';\n",
              "        dataTable['output_type'] = 'display_data';\n",
              "        await google.colab.output.renderOutput(dataTable, element);\n",
              "        const docLink = document.createElement('div');\n",
              "        docLink.innerHTML = docLinkHtml;\n",
              "        element.appendChild(docLink);\n",
              "      }\n",
              "    </script>\n",
              "  </div>\n",
              "\n",
              "    </div>\n",
              "  </div>\n"
            ]
          },
          "metadata": {},
          "execution_count": 33
        }
      ]
    },
    {
      "cell_type": "code",
      "source": [
        "final_data.head(1).iloc[:,0:30]"
      ],
      "metadata": {
        "colab": {
          "base_uri": "https://localhost:8080/",
          "height": 130
        },
        "id": "dB0cCIwk2--o",
        "outputId": "52371123-319f-4a87-b8f2-6956c8319f7c"
      },
      "execution_count": null,
      "outputs": [
        {
          "output_type": "execute_result",
          "data": {
            "text/plain": [
              "   ID_transaction  USER_ID  COUNTRY  TYPE  STATE  AMOUNT_GBP  CURRENCY  \\\n",
              "0         1009028   198154       44     1      0       13.12        83   \n",
              "\n",
              "   USER_AGE  U_AGE_GROUP  fraudster  ...  TOPUP_DAY_NO  TOPUP_SUM  \\\n",
              "0      64.0            5          0  ...             1      13.12   \n",
              "\n",
              "  TOPUP_DAY_SUM  CARD_PAYMENT_NO  CARD_PAYMENT_DAY_NO  CARD_PAYMENT_SUM  \\\n",
              "0         13.12                1                    1             13.12   \n",
              "\n",
              "   CARD_PAYMENT_DAY_SUM  FEE_NO  FEE_DAY_NO  FEE_SUM  \n",
              "0                 13.12       1           1    13.12  \n",
              "\n",
              "[1 rows x 30 columns]"
            ],
            "text/html": [
              "\n",
              "  <div id=\"df-65597f88-5b8f-4401-a6ee-4aee3a54284a\" class=\"colab-df-container\">\n",
              "    <div>\n",
              "<style scoped>\n",
              "    .dataframe tbody tr th:only-of-type {\n",
              "        vertical-align: middle;\n",
              "    }\n",
              "\n",
              "    .dataframe tbody tr th {\n",
              "        vertical-align: top;\n",
              "    }\n",
              "\n",
              "    .dataframe thead th {\n",
              "        text-align: right;\n",
              "    }\n",
              "</style>\n",
              "<table border=\"1\" class=\"dataframe\">\n",
              "  <thead>\n",
              "    <tr style=\"text-align: right;\">\n",
              "      <th></th>\n",
              "      <th>ID_transaction</th>\n",
              "      <th>USER_ID</th>\n",
              "      <th>COUNTRY</th>\n",
              "      <th>TYPE</th>\n",
              "      <th>STATE</th>\n",
              "      <th>AMOUNT_GBP</th>\n",
              "      <th>CURRENCY</th>\n",
              "      <th>USER_AGE</th>\n",
              "      <th>U_AGE_GROUP</th>\n",
              "      <th>fraudster</th>\n",
              "      <th>...</th>\n",
              "      <th>TOPUP_DAY_NO</th>\n",
              "      <th>TOPUP_SUM</th>\n",
              "      <th>TOPUP_DAY_SUM</th>\n",
              "      <th>CARD_PAYMENT_NO</th>\n",
              "      <th>CARD_PAYMENT_DAY_NO</th>\n",
              "      <th>CARD_PAYMENT_SUM</th>\n",
              "      <th>CARD_PAYMENT_DAY_SUM</th>\n",
              "      <th>FEE_NO</th>\n",
              "      <th>FEE_DAY_NO</th>\n",
              "      <th>FEE_SUM</th>\n",
              "    </tr>\n",
              "  </thead>\n",
              "  <tbody>\n",
              "    <tr>\n",
              "      <th>0</th>\n",
              "      <td>1009028</td>\n",
              "      <td>198154</td>\n",
              "      <td>44</td>\n",
              "      <td>1</td>\n",
              "      <td>0</td>\n",
              "      <td>13.12</td>\n",
              "      <td>83</td>\n",
              "      <td>64.0</td>\n",
              "      <td>5</td>\n",
              "      <td>0</td>\n",
              "      <td>...</td>\n",
              "      <td>1</td>\n",
              "      <td>13.12</td>\n",
              "      <td>13.12</td>\n",
              "      <td>1</td>\n",
              "      <td>1</td>\n",
              "      <td>13.12</td>\n",
              "      <td>13.12</td>\n",
              "      <td>1</td>\n",
              "      <td>1</td>\n",
              "      <td>13.12</td>\n",
              "    </tr>\n",
              "  </tbody>\n",
              "</table>\n",
              "<p>1 rows × 30 columns</p>\n",
              "</div>\n",
              "    <div class=\"colab-df-buttons\">\n",
              "\n",
              "  <div class=\"colab-df-container\">\n",
              "    <button class=\"colab-df-convert\" onclick=\"convertToInteractive('df-65597f88-5b8f-4401-a6ee-4aee3a54284a')\"\n",
              "            title=\"Convert this dataframe to an interactive table.\"\n",
              "            style=\"display:none;\">\n",
              "\n",
              "  <svg xmlns=\"http://www.w3.org/2000/svg\" height=\"24px\" viewBox=\"0 -960 960 960\">\n",
              "    <path d=\"M120-120v-720h720v720H120Zm60-500h600v-160H180v160Zm220 220h160v-160H400v160Zm0 220h160v-160H400v160ZM180-400h160v-160H180v160Zm440 0h160v-160H620v160ZM180-180h160v-160H180v160Zm440 0h160v-160H620v160Z\"/>\n",
              "  </svg>\n",
              "    </button>\n",
              "\n",
              "  <style>\n",
              "    .colab-df-container {\n",
              "      display:flex;\n",
              "      gap: 12px;\n",
              "    }\n",
              "\n",
              "    .colab-df-convert {\n",
              "      background-color: #E8F0FE;\n",
              "      border: none;\n",
              "      border-radius: 50%;\n",
              "      cursor: pointer;\n",
              "      display: none;\n",
              "      fill: #1967D2;\n",
              "      height: 32px;\n",
              "      padding: 0 0 0 0;\n",
              "      width: 32px;\n",
              "    }\n",
              "\n",
              "    .colab-df-convert:hover {\n",
              "      background-color: #E2EBFA;\n",
              "      box-shadow: 0px 1px 2px rgba(60, 64, 67, 0.3), 0px 1px 3px 1px rgba(60, 64, 67, 0.15);\n",
              "      fill: #174EA6;\n",
              "    }\n",
              "\n",
              "    .colab-df-buttons div {\n",
              "      margin-bottom: 4px;\n",
              "    }\n",
              "\n",
              "    [theme=dark] .colab-df-convert {\n",
              "      background-color: #3B4455;\n",
              "      fill: #D2E3FC;\n",
              "    }\n",
              "\n",
              "    [theme=dark] .colab-df-convert:hover {\n",
              "      background-color: #434B5C;\n",
              "      box-shadow: 0px 1px 3px 1px rgba(0, 0, 0, 0.15);\n",
              "      filter: drop-shadow(0px 1px 2px rgba(0, 0, 0, 0.3));\n",
              "      fill: #FFFFFF;\n",
              "    }\n",
              "  </style>\n",
              "\n",
              "    <script>\n",
              "      const buttonEl =\n",
              "        document.querySelector('#df-65597f88-5b8f-4401-a6ee-4aee3a54284a button.colab-df-convert');\n",
              "      buttonEl.style.display =\n",
              "        google.colab.kernel.accessAllowed ? 'block' : 'none';\n",
              "\n",
              "      async function convertToInteractive(key) {\n",
              "        const element = document.querySelector('#df-65597f88-5b8f-4401-a6ee-4aee3a54284a');\n",
              "        const dataTable =\n",
              "          await google.colab.kernel.invokeFunction('convertToInteractive',\n",
              "                                                    [key], {});\n",
              "        if (!dataTable) return;\n",
              "\n",
              "        const docLinkHtml = 'Like what you see? Visit the ' +\n",
              "          '<a target=\"_blank\" href=https://colab.research.google.com/notebooks/data_table.ipynb>data table notebook</a>'\n",
              "          + ' to learn more about interactive tables.';\n",
              "        element.innerHTML = '';\n",
              "        dataTable['output_type'] = 'display_data';\n",
              "        await google.colab.output.renderOutput(dataTable, element);\n",
              "        const docLink = document.createElement('div');\n",
              "        docLink.innerHTML = docLinkHtml;\n",
              "        element.appendChild(docLink);\n",
              "      }\n",
              "    </script>\n",
              "  </div>\n",
              "\n",
              "    </div>\n",
              "  </div>\n"
            ]
          },
          "metadata": {},
          "execution_count": 35
        }
      ]
    },
    {
      "cell_type": "code",
      "source": [
        "\n",
        "# Convert 'CREATED_DATE' to datetime in 'transactions'\n",
        "transactions['CREATED_DATE'] = pd.to_datetime(transactions['CREATED_DATE'])\n",
        "\n",
        "# Merge 'final_data' and 'transactions' based on the common identifier\n",
        "final_data['CREATED_DATE'] = transactions['CREATED_DATE']\n"
      ],
      "metadata": {
        "id": "SfuHESzy3gvE"
      },
      "execution_count": null,
      "outputs": []
    },
    {
      "cell_type": "code",
      "source": [
        "final_data.head(5).iloc[:,88:]"
      ],
      "metadata": {
        "colab": {
          "base_uri": "https://localhost:8080/",
          "height": 206
        },
        "id": "Mjmskgwi37JI",
        "outputId": "ae7c9d70-b7ef-4844-e026-d96d02491768"
      },
      "execution_count": null,
      "outputs": [
        {
          "output_type": "execute_result",
          "data": {
            "text/plain": [
              "   BALANCE  year_GB  month_GB  day_GB  hour_GB            CREATED_DATE\n",
              "0   -13.12     2019         4      20       19 2019-04-20 18:04:03.930\n",
              "1     0.00     2019         5       3       14 2019-05-03 13:09:57.625\n",
              "2    10.00     2019         4      25       16 2019-04-25 15:37:46.837\n",
              "3     0.00     2019         4      28       14 2019-04-28 13:52:15.256\n",
              "4    -9.79     2019         5      13       17 2019-05-13 16:02:12.081"
            ],
            "text/html": [
              "\n",
              "  <div id=\"df-7c91be68-47d0-4821-af2b-5e64b82b04ec\" class=\"colab-df-container\">\n",
              "    <div>\n",
              "<style scoped>\n",
              "    .dataframe tbody tr th:only-of-type {\n",
              "        vertical-align: middle;\n",
              "    }\n",
              "\n",
              "    .dataframe tbody tr th {\n",
              "        vertical-align: top;\n",
              "    }\n",
              "\n",
              "    .dataframe thead th {\n",
              "        text-align: right;\n",
              "    }\n",
              "</style>\n",
              "<table border=\"1\" class=\"dataframe\">\n",
              "  <thead>\n",
              "    <tr style=\"text-align: right;\">\n",
              "      <th></th>\n",
              "      <th>BALANCE</th>\n",
              "      <th>year_GB</th>\n",
              "      <th>month_GB</th>\n",
              "      <th>day_GB</th>\n",
              "      <th>hour_GB</th>\n",
              "      <th>CREATED_DATE</th>\n",
              "    </tr>\n",
              "  </thead>\n",
              "  <tbody>\n",
              "    <tr>\n",
              "      <th>0</th>\n",
              "      <td>-13.12</td>\n",
              "      <td>2019</td>\n",
              "      <td>4</td>\n",
              "      <td>20</td>\n",
              "      <td>19</td>\n",
              "      <td>2019-04-20 18:04:03.930</td>\n",
              "    </tr>\n",
              "    <tr>\n",
              "      <th>1</th>\n",
              "      <td>0.00</td>\n",
              "      <td>2019</td>\n",
              "      <td>5</td>\n",
              "      <td>3</td>\n",
              "      <td>14</td>\n",
              "      <td>2019-05-03 13:09:57.625</td>\n",
              "    </tr>\n",
              "    <tr>\n",
              "      <th>2</th>\n",
              "      <td>10.00</td>\n",
              "      <td>2019</td>\n",
              "      <td>4</td>\n",
              "      <td>25</td>\n",
              "      <td>16</td>\n",
              "      <td>2019-04-25 15:37:46.837</td>\n",
              "    </tr>\n",
              "    <tr>\n",
              "      <th>3</th>\n",
              "      <td>0.00</td>\n",
              "      <td>2019</td>\n",
              "      <td>4</td>\n",
              "      <td>28</td>\n",
              "      <td>14</td>\n",
              "      <td>2019-04-28 13:52:15.256</td>\n",
              "    </tr>\n",
              "    <tr>\n",
              "      <th>4</th>\n",
              "      <td>-9.79</td>\n",
              "      <td>2019</td>\n",
              "      <td>5</td>\n",
              "      <td>13</td>\n",
              "      <td>17</td>\n",
              "      <td>2019-05-13 16:02:12.081</td>\n",
              "    </tr>\n",
              "  </tbody>\n",
              "</table>\n",
              "</div>\n",
              "    <div class=\"colab-df-buttons\">\n",
              "\n",
              "  <div class=\"colab-df-container\">\n",
              "    <button class=\"colab-df-convert\" onclick=\"convertToInteractive('df-7c91be68-47d0-4821-af2b-5e64b82b04ec')\"\n",
              "            title=\"Convert this dataframe to an interactive table.\"\n",
              "            style=\"display:none;\">\n",
              "\n",
              "  <svg xmlns=\"http://www.w3.org/2000/svg\" height=\"24px\" viewBox=\"0 -960 960 960\">\n",
              "    <path d=\"M120-120v-720h720v720H120Zm60-500h600v-160H180v160Zm220 220h160v-160H400v160Zm0 220h160v-160H400v160ZM180-400h160v-160H180v160Zm440 0h160v-160H620v160ZM180-180h160v-160H180v160Zm440 0h160v-160H620v160Z\"/>\n",
              "  </svg>\n",
              "    </button>\n",
              "\n",
              "  <style>\n",
              "    .colab-df-container {\n",
              "      display:flex;\n",
              "      gap: 12px;\n",
              "    }\n",
              "\n",
              "    .colab-df-convert {\n",
              "      background-color: #E8F0FE;\n",
              "      border: none;\n",
              "      border-radius: 50%;\n",
              "      cursor: pointer;\n",
              "      display: none;\n",
              "      fill: #1967D2;\n",
              "      height: 32px;\n",
              "      padding: 0 0 0 0;\n",
              "      width: 32px;\n",
              "    }\n",
              "\n",
              "    .colab-df-convert:hover {\n",
              "      background-color: #E2EBFA;\n",
              "      box-shadow: 0px 1px 2px rgba(60, 64, 67, 0.3), 0px 1px 3px 1px rgba(60, 64, 67, 0.15);\n",
              "      fill: #174EA6;\n",
              "    }\n",
              "\n",
              "    .colab-df-buttons div {\n",
              "      margin-bottom: 4px;\n",
              "    }\n",
              "\n",
              "    [theme=dark] .colab-df-convert {\n",
              "      background-color: #3B4455;\n",
              "      fill: #D2E3FC;\n",
              "    }\n",
              "\n",
              "    [theme=dark] .colab-df-convert:hover {\n",
              "      background-color: #434B5C;\n",
              "      box-shadow: 0px 1px 3px 1px rgba(0, 0, 0, 0.15);\n",
              "      filter: drop-shadow(0px 1px 2px rgba(0, 0, 0, 0.3));\n",
              "      fill: #FFFFFF;\n",
              "    }\n",
              "  </style>\n",
              "\n",
              "    <script>\n",
              "      const buttonEl =\n",
              "        document.querySelector('#df-7c91be68-47d0-4821-af2b-5e64b82b04ec button.colab-df-convert');\n",
              "      buttonEl.style.display =\n",
              "        google.colab.kernel.accessAllowed ? 'block' : 'none';\n",
              "\n",
              "      async function convertToInteractive(key) {\n",
              "        const element = document.querySelector('#df-7c91be68-47d0-4821-af2b-5e64b82b04ec');\n",
              "        const dataTable =\n",
              "          await google.colab.kernel.invokeFunction('convertToInteractive',\n",
              "                                                    [key], {});\n",
              "        if (!dataTable) return;\n",
              "\n",
              "        const docLinkHtml = 'Like what you see? Visit the ' +\n",
              "          '<a target=\"_blank\" href=https://colab.research.google.com/notebooks/data_table.ipynb>data table notebook</a>'\n",
              "          + ' to learn more about interactive tables.';\n",
              "        element.innerHTML = '';\n",
              "        dataTable['output_type'] = 'display_data';\n",
              "        await google.colab.output.renderOutput(dataTable, element);\n",
              "        const docLink = document.createElement('div');\n",
              "        docLink.innerHTML = docLinkHtml;\n",
              "        element.appendChild(docLink);\n",
              "      }\n",
              "    </script>\n",
              "  </div>\n",
              "\n",
              "\n",
              "<div id=\"df-583a2554-b464-4982-9269-5c15c4128921\">\n",
              "  <button class=\"colab-df-quickchart\" onclick=\"quickchart('df-583a2554-b464-4982-9269-5c15c4128921')\"\n",
              "            title=\"Suggest charts\"\n",
              "            style=\"display:none;\">\n",
              "\n",
              "<svg xmlns=\"http://www.w3.org/2000/svg\" height=\"24px\"viewBox=\"0 0 24 24\"\n",
              "     width=\"24px\">\n",
              "    <g>\n",
              "        <path d=\"M19 3H5c-1.1 0-2 .9-2 2v14c0 1.1.9 2 2 2h14c1.1 0 2-.9 2-2V5c0-1.1-.9-2-2-2zM9 17H7v-7h2v7zm4 0h-2V7h2v10zm4 0h-2v-4h2v4z\"/>\n",
              "    </g>\n",
              "</svg>\n",
              "  </button>\n",
              "\n",
              "<style>\n",
              "  .colab-df-quickchart {\n",
              "      --bg-color: #E8F0FE;\n",
              "      --fill-color: #1967D2;\n",
              "      --hover-bg-color: #E2EBFA;\n",
              "      --hover-fill-color: #174EA6;\n",
              "      --disabled-fill-color: #AAA;\n",
              "      --disabled-bg-color: #DDD;\n",
              "  }\n",
              "\n",
              "  [theme=dark] .colab-df-quickchart {\n",
              "      --bg-color: #3B4455;\n",
              "      --fill-color: #D2E3FC;\n",
              "      --hover-bg-color: #434B5C;\n",
              "      --hover-fill-color: #FFFFFF;\n",
              "      --disabled-bg-color: #3B4455;\n",
              "      --disabled-fill-color: #666;\n",
              "  }\n",
              "\n",
              "  .colab-df-quickchart {\n",
              "    background-color: var(--bg-color);\n",
              "    border: none;\n",
              "    border-radius: 50%;\n",
              "    cursor: pointer;\n",
              "    display: none;\n",
              "    fill: var(--fill-color);\n",
              "    height: 32px;\n",
              "    padding: 0;\n",
              "    width: 32px;\n",
              "  }\n",
              "\n",
              "  .colab-df-quickchart:hover {\n",
              "    background-color: var(--hover-bg-color);\n",
              "    box-shadow: 0 1px 2px rgba(60, 64, 67, 0.3), 0 1px 3px 1px rgba(60, 64, 67, 0.15);\n",
              "    fill: var(--button-hover-fill-color);\n",
              "  }\n",
              "\n",
              "  .colab-df-quickchart-complete:disabled,\n",
              "  .colab-df-quickchart-complete:disabled:hover {\n",
              "    background-color: var(--disabled-bg-color);\n",
              "    fill: var(--disabled-fill-color);\n",
              "    box-shadow: none;\n",
              "  }\n",
              "\n",
              "  .colab-df-spinner {\n",
              "    border: 2px solid var(--fill-color);\n",
              "    border-color: transparent;\n",
              "    border-bottom-color: var(--fill-color);\n",
              "    animation:\n",
              "      spin 1s steps(1) infinite;\n",
              "  }\n",
              "\n",
              "  @keyframes spin {\n",
              "    0% {\n",
              "      border-color: transparent;\n",
              "      border-bottom-color: var(--fill-color);\n",
              "      border-left-color: var(--fill-color);\n",
              "    }\n",
              "    20% {\n",
              "      border-color: transparent;\n",
              "      border-left-color: var(--fill-color);\n",
              "      border-top-color: var(--fill-color);\n",
              "    }\n",
              "    30% {\n",
              "      border-color: transparent;\n",
              "      border-left-color: var(--fill-color);\n",
              "      border-top-color: var(--fill-color);\n",
              "      border-right-color: var(--fill-color);\n",
              "    }\n",
              "    40% {\n",
              "      border-color: transparent;\n",
              "      border-right-color: var(--fill-color);\n",
              "      border-top-color: var(--fill-color);\n",
              "    }\n",
              "    60% {\n",
              "      border-color: transparent;\n",
              "      border-right-color: var(--fill-color);\n",
              "    }\n",
              "    80% {\n",
              "      border-color: transparent;\n",
              "      border-right-color: var(--fill-color);\n",
              "      border-bottom-color: var(--fill-color);\n",
              "    }\n",
              "    90% {\n",
              "      border-color: transparent;\n",
              "      border-bottom-color: var(--fill-color);\n",
              "    }\n",
              "  }\n",
              "</style>\n",
              "\n",
              "  <script>\n",
              "    async function quickchart(key) {\n",
              "      const quickchartButtonEl =\n",
              "        document.querySelector('#' + key + ' button');\n",
              "      quickchartButtonEl.disabled = true;  // To prevent multiple clicks.\n",
              "      quickchartButtonEl.classList.add('colab-df-spinner');\n",
              "      try {\n",
              "        const charts = await google.colab.kernel.invokeFunction(\n",
              "            'suggestCharts', [key], {});\n",
              "      } catch (error) {\n",
              "        console.error('Error during call to suggestCharts:', error);\n",
              "      }\n",
              "      quickchartButtonEl.classList.remove('colab-df-spinner');\n",
              "      quickchartButtonEl.classList.add('colab-df-quickchart-complete');\n",
              "    }\n",
              "    (() => {\n",
              "      let quickchartButtonEl =\n",
              "        document.querySelector('#df-583a2554-b464-4982-9269-5c15c4128921 button');\n",
              "      quickchartButtonEl.style.display =\n",
              "        google.colab.kernel.accessAllowed ? 'block' : 'none';\n",
              "    })();\n",
              "  </script>\n",
              "</div>\n",
              "    </div>\n",
              "  </div>\n"
            ]
          },
          "metadata": {},
          "execution_count": 28
        }
      ]
    },
    {
      "cell_type": "code",
      "source": [
        "# Drop the intermediate columns\n",
        "final_data = final_data.drop(['year_GB', 'month_GB', 'day_GB', 'hour_GB'], axis=1)\n"
      ],
      "metadata": {
        "id": "8I6ShO8R6AZv"
      },
      "execution_count": null,
      "outputs": []
    },
    {
      "cell_type": "code",
      "source": [
        "# Convert 'CREATED_DATE' to ordinal\n",
        "final_data['CREATED_DATE_ORDINAL'] = final_data['CREATED_DATE'].apply(lambda x: x.toordinal())\n"
      ],
      "metadata": {
        "id": "KXFB-YKxO99Q"
      },
      "execution_count": null,
      "outputs": []
    },
    {
      "cell_type": "code",
      "source": [
        "# Drop unnecessary columns\n",
        "final_data = final_data.drop([ 'CREATED_DATE'], axis=1)\n",
        "\n",
        "# Map the 'is_bank_holiday' column\n",
        "mapping = {'True': 1, 'No': 0}\n",
        "final_data['is_bank_holiday'] = final_data['is_bank_holiday'].map(mapping)\n"
      ],
      "metadata": {
        "id": "bRuuIwYGPBM0"
      },
      "execution_count": null,
      "outputs": []
    },
    {
      "cell_type": "code",
      "source": [
        "import pandas as pd\n",
        "import numpy as np\n",
        "from sklearn.preprocessing import StandardScaler\n",
        "from sklearn.model_selection import train_test_split\n",
        "from tensorflow.keras.models import Sequential\n",
        "from tensorflow.keras.layers import LSTM, Dense\n",
        "\n",
        "\n",
        "\n",
        "# Extract features and target\n",
        "X = final_data.iloc[:, :9]  # Features from columns 0 to 9, including 'CREATED_DATE_ORDINAL'\n",
        "y = final_data.iloc[:, 9]   # Target in column 10\n",
        "\n",
        "# Convert features to NumPy array\n",
        "X_array = X.values\n",
        "\n",
        "# Normalize the data\n",
        "scaler = StandardScaler()\n",
        "X_normalized = scaler.fit_transform(X_array)\n",
        "\n",
        "# Reshape data for LSTM\n",
        "X_normalized_with_time = np.column_stack((X_normalized, final_data['CREATED_DATE_ORDINAL']))\n",
        "X_train, X_test, y_train, y_test = train_test_split(X_normalized_with_time, y, test_size=0.2, random_state=42)\n",
        "\n",
        "# Reshape data for LSTM\n",
        "X_train = X_train.reshape(X_train.shape[0], 1, X_train.shape[1])\n",
        "X_test = X_test.reshape(X_test.shape[0], 1, X_test.shape[1])\n",
        "\n",
        "# Build the LSTM model\n",
        "model = Sequential()\n",
        "model.add(LSTM(units=128, input_shape=(X_train.shape[1], X_train.shape[2]), return_sequences=True))\n",
        "model.add(LSTM(units=128, return_sequences=True))\n",
        "model.add(LSTM(units=64))\n",
        "model.add(Dense(units=1, activation='sigmoid'))\n",
        "model.compile(optimizer='adam', loss='mean_squared_error')\n",
        "\n",
        "# Train the model\n",
        "model.fit(X_train, y_train, epochs=10, batch_size=32, validation_data=(X_test, y_test))\n"
      ],
      "metadata": {
        "colab": {
          "base_uri": "https://localhost:8080/"
        },
        "id": "n3iuFfgL6Ula",
        "outputId": "80b3926b-7f8f-4fa2-b4f4-1a8c5f950cc6"
      },
      "execution_count": null,
      "outputs": [
        {
          "output_type": "stream",
          "name": "stdout",
          "text": [
            "Epoch 1/10\n",
            "26215/26215 [==============================] - 363s 14ms/step - loss: 0.0077 - val_loss: 0.0077\n",
            "Epoch 2/10\n",
            "26215/26215 [==============================] - 327s 12ms/step - loss: 0.0076 - val_loss: 0.0077\n",
            "Epoch 3/10\n",
            "26215/26215 [==============================] - 353s 13ms/step - loss: 0.0076 - val_loss: 0.0077\n",
            "Epoch 4/10\n",
            "26215/26215 [==============================] - 319s 12ms/step - loss: 0.0076 - val_loss: 0.0077\n",
            "Epoch 5/10\n",
            "26215/26215 [==============================] - 337s 13ms/step - loss: 0.0076 - val_loss: 0.0077\n",
            "Epoch 6/10\n",
            "26215/26215 [==============================] - 329s 13ms/step - loss: 0.0076 - val_loss: 0.0077\n",
            "Epoch 7/10\n",
            "26215/26215 [==============================] - 319s 12ms/step - loss: 0.0076 - val_loss: 0.0077\n",
            "Epoch 8/10\n",
            "26215/26215 [==============================] - 319s 12ms/step - loss: 0.0076 - val_loss: 0.0077\n",
            "Epoch 9/10\n",
            "26215/26215 [==============================] - 338s 13ms/step - loss: 0.0076 - val_loss: 0.0077\n",
            "Epoch 10/10\n",
            "26215/26215 [==============================] - 317s 12ms/step - loss: 0.0076 - val_loss: 0.0077\n"
          ]
        },
        {
          "output_type": "execute_result",
          "data": {
            "text/plain": [
              "<keras.src.callbacks.History at 0x78a6cb316b60>"
            ]
          },
          "metadata": {},
          "execution_count": 33
        }
      ]
    },
    {
      "cell_type": "code",
      "source": [
        "from sklearn.metrics import roc_curve, auc, confusion_matrix\n",
        "# Make predictions on the test set\n",
        "y_pred = model.predict(X_test)\n",
        "\n",
        "# ROC curve\n",
        "fpr, tpr, thresholds = roc_curve(y_test, y_pred)\n",
        "q = auc(fpr, tpr)\n",
        "\n",
        "# Plot ROC Curve\n",
        "plt.figure(figsize=(4, 4))\n",
        "plt.plot(fpr, tpr, color='darkorange', lw=2, label='ROC curve (area = {:.2f})'.format(roc_auc))\n",
        "plt.plot([0, 1], [0, 1], color='navy', lw=2, linestyle='--')\n",
        "plt.xlim([0.0, 1.0])\n",
        "plt.ylim([0.0, 1.05])\n",
        "plt.xlabel('False Positive Rate')\n",
        "plt.ylabel('True Positive Rate')\n",
        "plt.title('Receiver Operating Characteristic (ROC) Curve')\n",
        "plt.legend(loc='lower right')\n",
        "plt.show()"
      ],
      "metadata": {
        "colab": {
          "base_uri": "https://localhost:8080/",
          "height": 427
        },
        "id": "PA88bmHc7_af",
        "outputId": "050e11f8-9ed3-4c22-e4fd-33e21969e87c"
      },
      "execution_count": null,
      "outputs": [
        {
          "output_type": "stream",
          "name": "stdout",
          "text": [
            "6554/6554 [==============================] - 28s 4ms/step\n"
          ]
        },
        {
          "output_type": "display_data",
          "data": {
            "text/plain": [
              "<Figure size 400x400 with 1 Axes>"
            ],
            "image/png": "[encoded data removed]"
          },
          "metadata": {}
        }
      ]
    },
    {
      "cell_type": "code",
      "source": [
        " # Confusion Matrix\n",
        "threshold = 0.5\n",
        "y_pred_binary = (y_pred > threshold).astype(int)\n",
        "conf_matrix = confusion_matrix(y_test, y_pred_binary)\n",
        "\n",
        "\n",
        "# Display Confusion Matrix\n",
        "print(\"Confusion Matrix:\")\n",
        "print(conf_matrix)"
      ],
      "metadata": {
        "colab": {
          "base_uri": "https://localhost:8080/"
        },
        "id": "jZiZ_6rSLOY2",
        "outputId": "3fa1c559-668d-4859-c4dc-d10d81041248"
      },
      "execution_count": null,
      "outputs": [
        {
          "output_type": "stream",
          "name": "stdout",
          "text": [
            "Confusion Matrix:\n",
            "[[208086      0]\n",
            " [  1629      0]]\n"
          ]
        }
      ]
    },
    {
      "cell_type": "code",
      "source": [
        "model.save('fraud_detect_revoult.h5')"
      ],
      "metadata": {
        "id": "0Kk_m9xFfZX4"
      },
      "execution_count": null,
      "outputs": []
    },
    {
      "cell_type": "code",
      "source": [
        "from google.colab import files\n",
        "\n",
        "files.download('fraud_detect_revoult.h5')"
      ],
      "metadata": {
        "colab": {
          "base_uri": "https://localhost:8080/",
          "height": 17
        },
        "id": "lcfyS91hf25i",
        "outputId": "78ba4224-81c8-414d-a746-47cc2ba127db"
      },
      "execution_count": null,
      "outputs": [
        {
          "output_type": "display_data",
          "data": {
            "text/plain": [
              "<IPython.core.display.Javascript object>"
            ],
            "application/javascript": [
              "\n",
              "    async function download(id, filename, size) {\n",
              "      if (!google.colab.kernel.accessAllowed) {\n",
              "        return;\n",
              "      }\n",
              "      const div = document.createElement('div');\n",
              "      const label = document.createElement('label');\n",
              "      label.textContent = `Downloading \"${filename}\": `;\n",
              "      div.appendChild(label);\n",
              "      const progress = document.createElement('progress');\n",
              "      progress.max = size;\n",
              "      div.appendChild(progress);\n",
              "      document.body.appendChild(div);\n",
              "\n",
              "      const buffers = [];\n",
              "      let downloaded = 0;\n",
              "\n",
              "      const channel = await google.colab.kernel.comms.open(id);\n",
              "      // Send a message to notify the kernel that we're ready.\n",
              "      channel.send({})\n",
              "\n",
              "      for await (const message of channel.messages) {\n",
              "        // Send a message to notify the kernel that we're ready.\n",
              "        channel.send({})\n",
              "        if (message.buffers) {\n",
              "          for (const buffer of message.buffers) {\n",
              "            buffers.push(buffer);\n",
              "            downloaded += buffer.byteLength;\n",
              "            progress.value = downloaded;\n",
              "          }\n",
              "        }\n",
              "      }\n",
              "      const blob = new Blob(buffers, {type: 'application/binary'});\n",
              "      const a = document.createElement('a');\n",
              "      a.href = window.URL.createObjectURL(blob);\n",
              "      a.download = filename;\n",
              "      div.appendChild(a);\n",
              "      a.click();\n",
              "      div.remove();\n",
              "    }\n",
              "  "
            ]
          },
          "metadata": {}
        },
        {
          "output_type": "display_data",
          "data": {
            "text/plain": [
              "<IPython.core.display.Javascript object>"
            ],
            "application/javascript": [
              "download(\"download_743c81f9-97db-431f-af5a-052b0c8d25ce\", \"fraud_detect_revoult.h5\", 3079384)"
            ]
          },
          "metadata": {}
        }
      ]
    },
    {
      "cell_type": "code",
      "source": [
        "transactions.columns"
      ],
      "metadata": {
        "colab": {
          "base_uri": "https://localhost:8080/"
        },
        "id": "50R23V6Rp1eZ",
        "outputId": "46d96980-fa8d-436c-fcdb-11ed68dc8201"
      },
      "execution_count": null,
      "outputs": [
        {
          "output_type": "execute_result",
          "data": {
            "text/plain": [
              "Index(['ID', 'USER_ID', 'CREATED_DATE', 'TYPE', 'STATE', 'AMOUNT_GBP',\n",
              "       'CURRENCY'],\n",
              "      dtype='object')"
            ]
          },
          "metadata": {},
          "execution_count": 45
        }
      ]
    },
    {
      "cell_type": "code",
      "source": [
        "# Import Libraries\n",
        "import pandas as pd\n",
        "import numpy as np\n",
        "import matplotlib.pyplot as plt\n",
        "import seaborn as sns\n",
        "\n",
        "import tensorflow as tf\n",
        "from sklearn.model_selection import train_test_split\n",
        "from sklearn.preprocessing import StandardScaler\n",
        "from keras.models import Sequential\n",
        "from keras.layers import LSTM, Dense\n",
        "from sklearn.model_selection import KFold\n",
        "from keras.optimizers import Adam\n",
        "from sklearn.model_selection import StratifiedKFold\n",
        "from sklearn.metrics import confusion_matrix, accuracy_score, precision_score, recall_score\n",
        "\n",
        "# Adjust the file path based on the location of your dataset\n",
        "#fraudsters_path = 'C:\\\\Users\\\\s4225126\\\\Downloads\\\\output.csv'\n",
        "#final_data = pd.read_csv(fraudsters_path)\n",
        "\n",
        "# Adjust the file path based on the location of your dataset\n",
        "fraudsters_path = '/content/drive/MyDrive/Colab Notebooks/Applied AI/DL/FraudDataset/output.csv'\n",
        "final_data = pd.read_csv(fraudsters_path)\n",
        "\n",
        "final_data = final_data.drop(['IS_FRAUDSTER'], axis = 1)\n",
        "mapping = { 'True': 1, 'No': 0 }\n",
        "final_data['is_bank_holiday'] = final_data['is_bank_holiday'].map(mapping)\n",
        "\n",
        "\n",
        "# Extract features and target\n",
        "X = final_data.iloc[:, :9].join(final_data.iloc[:, -81:])\n",
        "y = final_data.iloc[:, 9]   # Target in column 9\n",
        "\n",
        "# Convert features to NumPy array\n",
        "X_array = X.values\n",
        "\n",
        "# Normalize the data\n",
        "scaler = StandardScaler()\n",
        "X_normalized = scaler.fit_transform(X_array)\n",
        "\n",
        "# Split the dataset into training and testing sets\n",
        "X_train, X_test, y_train, y_test = train_test_split(X_normalized, y, test_size=0.2, random_state=42)\n",
        "\n",
        "\n",
        "# Print the shapes of the training and testing sets\n",
        "print(\"X_train shape:\", X_train.shape)\n",
        "print(\"X_test shape:\", X_test.shape)\n",
        "print(\"y_train shape:\", y_train.shape)\n",
        "print(\"y_test shape:\", y_test.shape)\n",
        "\n",
        "# Reshape data for LSTM\n",
        "X_train = X_train.reshape(X_train.shape[0], 1, X_train.shape[1])\n",
        "X_test = X_test.reshape(X_test.shape[0], 1, X_test.shape[1])\n",
        "\n",
        "# Print the shapes of the training and testing sets\n",
        "print(\"X_train shape:\", X_train.shape)\n",
        "print(\"X_test shape:\", X_test.shape)\n",
        "print(\"y_train shape:\", y_train.shape)\n",
        "print(\"y_test shape:\", y_test.shape)"
      ],
      "metadata": {
        "id": "qqxeDtaS2L8S",
        "colab": {
          "base_uri": "https://localhost:8080/"
        },
        "outputId": "446608c2-e476-41a9-ddaf-4da3a81e803a"
      },
      "execution_count": 9,
      "outputs": [
        {
          "output_type": "stream",
          "name": "stderr",
          "text": [
            "<ipython-input-9-f4e8fc550d53>:23: DtypeWarning: Columns (10) have mixed types. Specify dtype option on import or set low_memory=False.\n",
            "  final_data = pd.read_csv(fraudsters_path)\n"
          ]
        },
        {
          "output_type": "stream",
          "name": "stdout",
          "text": [
            "X_train shape: (838860, 90)\n",
            "X_test shape: (209715, 90)\n",
            "y_train shape: (838860,)\n",
            "y_test shape: (209715,)\n",
            "X_train shape: (838860, 1, 90)\n",
            "X_test shape: (209715, 1, 90)\n",
            "y_train shape: (838860,)\n",
            "y_test shape: (209715,)\n"
          ]
        }
      ]
    },
    {
      "cell_type": "code",
      "source": [
        "# Build the LSTM model\n",
        "#model = Sequential()\n",
        "#model.add(LSTM(units=32, input_shape=(X_train.shape[1], X_train.shape[2])))\n",
        "#model.add(Dense(units=1))\n",
        "#model.compile(optimizer=Adam(learning_rate=0.01), loss='mean_squared_error')\n",
        "\n",
        "# Train the model\n",
        "#model.fit(X_train, y_train, epochs=10, batch_size=32, validation_data=(X_test, y_test))\n"
      ],
      "metadata": {
        "id": "Ps0LmgCap9wy"
      },
      "execution_count": null,
      "outputs": []
    },
    {
      "cell_type": "code",
      "source": [
        "from sklearn.metrics import roc_curve, auc\n",
        "\n",
        "# Define the number of folds\n",
        "n_splits = 3\n",
        "\n",
        "# Initialize KFold\n",
        "kf = KFold(n_splits=n_splits, shuffle=True, random_state=42)\n",
        "\n",
        "# Lists to store evaluation metrics for each fold\n",
        "roc_auc_scores = []\n",
        "conf_matrices = []\n",
        "\n",
        "# Define cutoff values\n",
        "cutoff_values = [0.6, 0.7]\n",
        "\n",
        "# Iterate through each fold\n",
        "for train_index, test_index in kf.split(X_normalized):\n",
        "    X_train_fold, X_test_fold = X_normalized[train_index], X_normalized[test_index]\n",
        "    y_train_fold, y_test_fold = y.iloc[train_index], y.iloc[test_index]\n",
        "\n",
        "    # Reshape data for LSTM\n",
        "    X_train_fold = X_train_fold.reshape(X_train_fold.shape[0], 1, X_train_fold.shape[1])\n",
        "    X_test_fold = X_test_fold.reshape(X_test_fold.shape[0], 1, X_test_fold.shape[1])\n",
        "\n",
        "    # Build the LSTM model\n",
        "    model = Sequential()\n",
        "    model.add(LSTM(units=32, input_shape=(X_train_fold.shape[1], X_train_fold.shape[2])))\n",
        "    model.add(Dense(units=1))\n",
        "    model.compile(optimizer=Adam(learning_rate=0.01), loss='mean_squared_error')\n",
        "\n",
        "    # Train the model\n",
        "    model.fit(X_train_fold, y_train_fold, epochs=10, batch_size=32, validation_data=(X_test_fold, y_test_fold))\n",
        "\n",
        "    # Make predictions on the test set\n",
        "    y_pred_fold = model.predict(X_test_fold).flatten()\n",
        "\n",
        "    # Evaluate the model at different cutoff values\n",
        "    for cutoff in cutoff_values:\n",
        "        y_pred_binary = (y_pred_fold > cutoff).astype(int)\n",
        "\n",
        "        # Compute ROC curve and AUC\n",
        "        fpr, tpr, _ = roc_curve(y_test_fold, y_pred_fold)\n",
        "        roc_auc = auc(fpr, tpr)\n",
        "        roc_auc_scores.append(roc_auc)\n",
        "\n",
        "        # Compute confusion matrix\n",
        "        conf_matrix = confusion_matrix(y_test_fold, y_pred_binary)\n",
        "        conf_matrices.append(conf_matrix)\n",
        "\n",
        "# Print average ROC AUC scores across all folds and cutoff values\n",
        "print(\"Average ROC AUC Scores:\")\n",
        "for i, cutoff in enumerate(cutoff_values):\n",
        "    avg_roc_auc = np.mean(roc_auc_scores[i::len(cutoff_values)])\n",
        "    print(f\"At Cutoff {cutoff}: {avg_roc_auc}\")\n",
        "\n",
        "# Print average confusion matrices across all folds and cutoff values\n",
        "print(\"\\nAverage Confusion Matrices:\")\n",
        "for i, cutoff in enumerate(cutoff_values):\n",
        "    avg_conf_matrix = np.mean(conf_matrices[i::len(cutoff_values)], axis=0)\n",
        "    print(f\"At Cutoff {cutoff}:\\n{avg_conf_matrix}\")\n"
      ],
      "metadata": {
        "colab": {
          "base_uri": "https://localhost:8080/"
        },
        "id": "F_-sy52a9cbg",
        "outputId": "51ebc0b9-69d4-45ae-ada2-dfdc12d63bf0"
      },
      "execution_count": null,
      "outputs": [
        {
          "output_type": "stream",
          "name": "stdout",
          "text": [
            "Epoch 1/10\n",
            "21846/21846 [==============================] - 121s 5ms/step - loss: 0.0073 - val_loss: 0.0075\n",
            "Epoch 2/10\n",
            "21846/21846 [==============================] - 118s 5ms/step - loss: 0.0071 - val_loss: 0.0074\n",
            "Epoch 3/10\n",
            "21846/21846 [==============================] - 114s 5ms/step - loss: 0.0071 - val_loss: 0.0072\n",
            "Epoch 4/10\n",
            "21846/21846 [==============================] - 133s 6ms/step - loss: 0.0071 - val_loss: 0.0074\n",
            "Epoch 5/10\n",
            "21846/21846 [==============================] - 132s 6ms/step - loss: 0.0070 - val_loss: 0.0072\n",
            "Epoch 6/10\n",
            "21846/21846 [==============================] - 132s 6ms/step - loss: 0.0070 - val_loss: 0.0071\n",
            "Epoch 7/10\n",
            "21846/21846 [==============================] - 132s 6ms/step - loss: 0.0070 - val_loss: 0.0071\n",
            "Epoch 8/10\n",
            "21846/21846 [==============================] - 131s 6ms/step - loss: 0.0070 - val_loss: 0.0074\n",
            "Epoch 9/10\n",
            "21846/21846 [==============================] - 113s 5ms/step - loss: 0.0070 - val_loss: 0.0073\n",
            "Epoch 10/10\n",
            "21846/21846 [==============================] - 112s 5ms/step - loss: 0.0070 - val_loss: 0.0071\n",
            "10923/10923 [==============================] - 24s 2ms/step\n",
            "Epoch 1/10\n",
            "21846/21846 [==============================] - 137s 6ms/step - loss: 0.0075 - val_loss: 0.0070\n",
            "Epoch 2/10\n",
            "21846/21846 [==============================] - 132s 6ms/step - loss: 0.0073 - val_loss: 0.0069\n",
            "Epoch 3/10\n",
            "21846/21846 [==============================] - 134s 6ms/step - loss: 0.0072 - val_loss: 0.0069\n",
            "Epoch 4/10\n",
            "21846/21846 [==============================] - 133s 6ms/step - loss: 0.0072 - val_loss: 0.0069\n",
            "Epoch 5/10\n",
            "21846/21846 [==============================] - 114s 5ms/step - loss: 0.0072 - val_loss: 0.0069\n",
            "Epoch 6/10\n",
            "21846/21846 [==============================] - 113s 5ms/step - loss: 0.0072 - val_loss: 0.0069\n",
            "Epoch 7/10\n",
            "21846/21846 [==============================] - 134s 6ms/step - loss: 0.0071 - val_loss: 0.0068\n",
            "Epoch 8/10\n",
            "21846/21846 [==============================] - 107s 5ms/step - loss: 0.0071 - val_loss: 0.0069\n",
            "Epoch 9/10\n",
            "21846/21846 [==============================] - 110s 5ms/step - loss: 0.0071 - val_loss: 0.0067\n",
            "Epoch 10/10\n",
            "21846/21846 [==============================] - 127s 6ms/step - loss: 0.0071 - val_loss: 0.0068\n",
            "10923/10923 [==============================] - 24s 2ms/step\n",
            "Epoch 1/10\n",
            "21846/21846 [==============================] - 114s 5ms/step - loss: 0.0074 - val_loss: 0.0073\n",
            "Epoch 2/10\n",
            "21846/21846 [==============================] - 133s 6ms/step - loss: 0.0072 - val_loss: 0.0072\n",
            "Epoch 3/10\n",
            "21846/21846 [==============================] - 131s 6ms/step - loss: 0.0072 - val_loss: 0.0073\n",
            "Epoch 4/10\n",
            "21846/21846 [==============================] - 113s 5ms/step - loss: 0.0071 - val_loss: 0.0071\n",
            "Epoch 5/10\n",
            "21846/21846 [==============================] - 130s 6ms/step - loss: 0.0071 - val_loss: 0.0072\n",
            "Epoch 6/10\n",
            "21846/21846 [==============================] - 113s 5ms/step - loss: 0.0071 - val_loss: 0.0072\n",
            "Epoch 7/10\n",
            "21846/21846 [==============================] - 111s 5ms/step - loss: 0.0071 - val_loss: 0.0070\n",
            "Epoch 8/10\n",
            "21846/21846 [==============================] - 132s 6ms/step - loss: 0.0070 - val_loss: 0.0070\n",
            "Epoch 9/10\n",
            "21846/21846 [==============================] - 131s 6ms/step - loss: 0.0070 - val_loss: 0.0071\n",
            "Epoch 10/10\n",
            "21846/21846 [==============================] - 114s 5ms/step - loss: 0.0070 - val_loss: 0.0072\n",
            "10923/10923 [==============================] - 24s 2ms/step\n",
            "Average ROC AUC Scores:\n",
            "At Cutoff 0.6: 0.8644833897044277\n",
            "At Cutoff 0.7: 0.8644833897044277\n",
            "\n",
            "Average Confusion Matrices:\n",
            "At Cutoff 0.6:\n",
            "[[3.46802000e+05 3.76666667e+01]\n",
            " [2.58600000e+03 9.93333333e+01]]\n",
            "At Cutoff 0.7:\n",
            "[[3.46819333e+05 2.03333333e+01]\n",
            " [2.62666667e+03 5.86666667e+01]]\n"
          ]
        }
      ]
    },
    {
      "cell_type": "code",
      "source": [
        "import matplotlib.pyplot as plt\n",
        "import seaborn as sns\n",
        "from sklearn.metrics import ConfusionMatrixDisplay\n",
        "\n",
        "# Function to plot ROC curve\n",
        "def plot_roc_curve(fpr, tpr, auc_value, cutoff):\n",
        "    plt.figure(figsize=(4, 4))\n",
        "    plt.plot(fpr, tpr, color='darkorange', lw=2, label='ROC curve (area = {:.2f})'.format(auc_value))\n",
        "    plt.plot([0, 1], [0, 1], color='navy', lw=2, linestyle='--')\n",
        "    plt.xlabel('False Positive Rate')\n",
        "    plt.ylabel('True Positive Rate')\n",
        "    plt.title('Receiver Operating Characteristic at Cutoff {}'.format(cutoff))\n",
        "    plt.legend(loc='lower right')\n",
        "    plt.show()\n",
        "\n",
        "# Function to display confusion matrix\n",
        "# Function to display confusion matrix\n",
        "def display_confusion_matrix(conf_matrix, cutoff):\n",
        "    plt.figure(figsize=(4, 4))\n",
        "    sns.heatmap(conf_matrix, annot=True, fmt='g', cmap='Blues', cbar=False)\n",
        "    plt.title('Confusion Matrix at Cutoff {}'.format(cutoff))\n",
        "    plt.xlabel('Predicted Label')\n",
        "    plt.ylabel('True Label')\n",
        "    plt.show()\n",
        "\n",
        "\n",
        "# Average ROC AUC scores across all folds and cutoff values\n",
        "print(\"Average ROC AUC Scores:\")\n",
        "for i, cutoff in enumerate(cutoff_values):\n",
        "    avg_roc_auc = np.mean(roc_auc_scores[i::len(cutoff_values)])\n",
        "    print(f\"At Cutoff {cutoff}: {avg_roc_auc}\")\n",
        "\n",
        "# Average confusion matrices across all folds and cutoff values\n",
        "print(\"\\nAverage Confusion Matrices:\")\n",
        "for i, cutoff in enumerate(cutoff_values):\n",
        "    avg_conf_matrix = np.mean(conf_matrices[i::len(cutoff_values)], axis=0)\n",
        "    print(f\"At Cutoff {cutoff}:\\n{avg_conf_matrix}\")\n",
        "\n",
        "    # Plot ROC curve\n",
        "    plot_roc_curve(fpr, tpr, avg_roc_auc, cutoff)\n",
        "\n",
        "    # Display confusion matrix\n",
        "    display_confusion_matrix(avg_conf_matrix, cutoff)\n"
      ],
      "metadata": {
        "colab": {
          "base_uri": "https://localhost:8080/",
          "height": 1000
        },
        "id": "SX0C9741-Twk",
        "outputId": "21c38b58-b1de-4ce4-89db-df23da965e69"
      },
      "execution_count": null,
      "outputs": [
        {
          "output_type": "stream",
          "name": "stdout",
          "text": [
            "Average ROC AUC Scores:\n",
            "At Cutoff 0.6: 0.8644833897044277\n",
            "At Cutoff 0.7: 0.8644833897044277\n",
            "\n",
            "Average Confusion Matrices:\n",
            "At Cutoff 0.6:\n",
            "[[3.46802000e+05 3.76666667e+01]\n",
            " [2.58600000e+03 9.93333333e+01]]\n"
          ]
        },
        {
          "output_type": "display_data",
          "data": {
            "text/plain": [
              "<Figure size 400x400 with 1 Axes>"
            ],
            "image/png": "[encoded data removed]"
          },
          "metadata": {}
        },
        {
          "output_type": "display_data",
          "data": {
            "text/plain": [
              "<Figure size 400x400 with 1 Axes>"
            ],
            "image/png": "[encoded data removed]"
          },
          "metadata": {}
        },
        {
          "output_type": "stream",
          "name": "stdout",
          "text": [
            "At Cutoff 0.7:\n",
            "[[3.46819333e+05 2.03333333e+01]\n",
            " [2.62666667e+03 5.86666667e+01]]\n"
          ]
        },
        {
          "output_type": "display_data",
          "data": {
            "text/plain": [
              "<Figure size 400x400 with 1 Axes>"
            ],
            "image/png": "[encoded data removed]"
          },
          "metadata": {}
        },
        {
          "output_type": "display_data",
          "data": {
            "text/plain": [
              "<Figure size 400x400 with 1 Axes>"
            ],
            "image/png": "[encoded data removed]"
          },
          "metadata": {}
        }
      ]
    },
    {
      "cell_type": "code",
      "source": [
        "from sklearn.metrics import roc_curve, auc\n",
        "\n",
        "# Define the number of folds\n",
        "n_splits = 3\n",
        "\n",
        "# Initialize KFold\n",
        "kf = KFold(n_splits=n_splits, shuffle=True, random_state=42)\n",
        "\n",
        "# Lists to store evaluation metrics for each fold\n",
        "roc_auc_scores = []\n",
        "conf_matrices = []\n",
        "\n",
        "# Define cutoff values\n",
        "cutoff_values = [0.6, 0.7]\n",
        "\n",
        "# Iterate through each fold\n",
        "for train_index, test_index in kf.split(X_normalized):\n",
        "    X_train_fold, X_test_fold = X_normalized[train_index], X_normalized[test_index]\n",
        "    y_train_fold, y_test_fold = y.iloc[train_index], y.iloc[test_index]\n",
        "\n",
        "    # Reshape data for LSTM\n",
        "    X_train_fold = X_train_fold.reshape(X_train_fold.shape[0], 1, X_train_fold.shape[1])\n",
        "    X_test_fold = X_test_fold.reshape(X_test_fold.shape[0], 1, X_test_fold.shape[1])\n",
        "\n",
        "    # Build the LSTM model\n",
        "    model = Sequential()\n",
        "    model.add(LSTM(units=32, input_shape=(X_train_fold.shape[1], X_train_fold.shape[2]), return_sequences=True))\n",
        "    model.add(LSTM(units=32, return_sequences=True))\n",
        "    model.add(Dense(units=1))\n",
        "    model.compile(optimizer=Adam(learning_rate=0.01), loss='mean_squared_error')\n",
        "\n",
        "    # Train the model\n",
        "    model.fit(X_train_fold, y_train_fold, epochs=10, batch_size=32, validation_data=(X_test_fold, y_test_fold))\n",
        "\n",
        "    # Make predictions on the test set\n",
        "    y_pred_fold = model.predict(X_test_fold).flatten()\n",
        "\n",
        "    # Evaluate the model at different cutoff values\n",
        "    for cutoff in cutoff_values:\n",
        "        y_pred_binary = (y_pred_fold > cutoff).astype(int)\n",
        "\n",
        "        # Compute ROC curve and AUC\n",
        "        fpr, tpr, _ = roc_curve(y_test_fold, y_pred_fold)\n",
        "        roc_auc = auc(fpr, tpr)\n",
        "        roc_auc_scores.append(roc_auc)\n",
        "\n",
        "        # Compute confusion matrix\n",
        "        conf_matrix = confusion_matrix(y_test_fold, y_pred_binary)\n",
        "        conf_matrices.append(conf_matrix)\n",
        "\n",
        "# Print average ROC AUC scores across all folds and cutoff values\n",
        "print(\"Average ROC AUC Scores:\")\n",
        "for i, cutoff in enumerate(cutoff_values):\n",
        "    avg_roc_auc = np.mean(roc_auc_scores[i::len(cutoff_values)])\n",
        "    print(f\"At Cutoff {cutoff}: {avg_roc_auc}\")\n",
        "\n",
        "# Print average confusion matrices across all folds and cutoff values\n",
        "print(\"\\nAverage Confusion Matrices:\")\n",
        "for i, cutoff in enumerate(cutoff_values):\n",
        "    avg_conf_matrix = np.mean(conf_matrices[i::len(cutoff_values)], axis=0)\n",
        "    print(f\"At Cutoff {cutoff}:\\n{avg_conf_matrix}\")\n"
      ],
      "metadata": {
        "colab": {
          "base_uri": "https://localhost:8080/"
        },
        "id": "s1WMg62_arUy",
        "outputId": "bc2a0ec5-8c98-4378-c1bd-36c63843764c"
      },
      "execution_count": null,
      "outputs": [
        {
          "output_type": "stream",
          "name": "stdout",
          "text": [
            "Epoch 1/10\n",
            "21846/21846 [==============================] - 196s 8ms/step - loss: 0.0073 - val_loss: 0.0073\n",
            "Epoch 2/10\n",
            "21846/21846 [==============================] - 170s 8ms/step - loss: 0.0071 - val_loss: 0.0071\n",
            "Epoch 3/10\n",
            "21846/21846 [==============================] - 157s 7ms/step - loss: 0.0070 - val_loss: 0.0071\n",
            "Epoch 4/10\n",
            "21846/21846 [==============================] - 158s 7ms/step - loss: 0.0070 - val_loss: 0.0070\n",
            "Epoch 5/10\n",
            "21846/21846 [==============================] - 158s 7ms/step - loss: 0.0069 - val_loss: 0.0072\n",
            "Epoch 6/10\n",
            "21846/21846 [==============================] - 168s 8ms/step - loss: 0.0069 - val_loss: 0.0070\n",
            "Epoch 7/10\n",
            "21846/21846 [==============================] - 159s 7ms/step - loss: 0.0069 - val_loss: 0.0069\n",
            "Epoch 8/10\n",
            "21846/21846 [==============================] - 156s 7ms/step - loss: 0.0068 - val_loss: 0.0069\n",
            "Epoch 9/10\n",
            "21846/21846 [==============================] - 157s 7ms/step - loss: 0.0068 - val_loss: 0.0070\n",
            "Epoch 10/10\n",
            "21846/21846 [==============================] - 158s 7ms/step - loss: 0.0068 - val_loss: 0.0071\n",
            "10923/10923 [==============================] - 33s 3ms/step\n",
            "Epoch 1/10\n",
            "21846/21846 [==============================] - 172s 8ms/step - loss: 0.0075 - val_loss: 0.0072\n",
            "Epoch 2/10\n",
            "21846/21846 [==============================] - 158s 7ms/step - loss: 0.0072 - val_loss: 0.0068\n",
            "Epoch 3/10\n",
            "21846/21846 [==============================] - 157s 7ms/step - loss: 0.0071 - val_loss: 0.0069\n",
            "Epoch 4/10\n",
            "21846/21846 [==============================] - 158s 7ms/step - loss: 0.0071 - val_loss: 0.0068\n",
            "Epoch 5/10\n",
            "21846/21846 [==============================] - 158s 7ms/step - loss: 0.0071 - val_loss: 0.0068\n",
            "Epoch 6/10\n",
            "21846/21846 [==============================] - 168s 8ms/step - loss: 0.0070 - val_loss: 0.0068\n",
            "Epoch 7/10\n",
            "21846/21846 [==============================] - 158s 7ms/step - loss: 0.0070 - val_loss: 0.0068\n",
            "Epoch 8/10\n",
            "21846/21846 [==============================] - 158s 7ms/step - loss: 0.0070 - val_loss: 0.0067\n",
            "Epoch 9/10\n",
            "21846/21846 [==============================] - 168s 8ms/step - loss: 0.0070 - val_loss: 0.0067\n",
            "Epoch 10/10\n",
            "21846/21846 [==============================] - 158s 7ms/step - loss: 0.0070 - val_loss: 0.0068\n",
            "10923/10923 [==============================] - 33s 3ms/step\n",
            "Epoch 1/10\n",
            "21846/21846 [==============================] - 173s 8ms/step - loss: 0.0073 - val_loss: 0.0072\n",
            "Epoch 2/10\n",
            "21846/21846 [==============================] - 156s 7ms/step - loss: 0.0071 - val_loss: 0.0074\n",
            "Epoch 3/10\n",
            "21846/21846 [==============================] - 155s 7ms/step - loss: 0.0071 - val_loss: 0.0070\n",
            "Epoch 4/10\n",
            "21846/21846 [==============================] - 166s 8ms/step - loss: 0.0071 - val_loss: 0.0072\n",
            "Epoch 5/10\n",
            "21846/21846 [==============================] - 163s 7ms/step - loss: 0.0070 - val_loss: 0.0070\n",
            "Epoch 6/10\n",
            "21846/21846 [==============================] - 153s 7ms/step - loss: 0.0070 - val_loss: 0.0074\n",
            "Epoch 7/10\n",
            "21846/21846 [==============================] - 153s 7ms/step - loss: 0.0069 - val_loss: 0.0071\n",
            "Epoch 8/10\n",
            "21846/21846 [==============================] - 162s 7ms/step - loss: 0.0069 - val_loss: 0.0069\n",
            "Epoch 9/10\n",
            "21846/21846 [==============================] - 154s 7ms/step - loss: 0.0069 - val_loss: 0.0069\n",
            "Epoch 10/10\n",
            "21846/21846 [==============================] - 153s 7ms/step - loss: 0.0069 - val_loss: 0.0069\n",
            "10923/10923 [==============================] - 32s 3ms/step\n",
            "Average ROC AUC Scores:\n",
            "At Cutoff 0.6: 0.872277792790121\n",
            "At Cutoff 0.7: 0.872277792790121\n",
            "\n",
            "Average Confusion Matrices:\n",
            "At Cutoff 0.6:\n",
            "[[3.46766333e+05 7.33333333e+01]\n",
            " [2.53433333e+03 1.51000000e+02]]\n",
            "At Cutoff 0.7:\n",
            "[[3.46803000e+05 3.66666667e+01]\n",
            " [2.59966667e+03 8.56666667e+01]]\n"
          ]
        }
      ]
    },
    {
      "cell_type": "code",
      "source": [
        "import matplotlib.pyplot as plt\n",
        "import seaborn as sns\n",
        "from sklearn.metrics import ConfusionMatrixDisplay\n",
        "\n",
        "# Function to plot ROC curve\n",
        "def plot_roc_curve(fpr, tpr, auc_value, cutoff):\n",
        "    plt.figure(figsize=(4, 4))\n",
        "    plt.plot(fpr, tpr, color='darkorange', lw=2, label='ROC curve (area = {:.2f})'.format(auc_value))\n",
        "    plt.plot([0, 1], [0, 1], color='navy', lw=2, linestyle='--')\n",
        "    plt.xlabel('False Positive Rate')\n",
        "    plt.ylabel('True Positive Rate')\n",
        "    plt.title('Receiver Operating Characteristic at Cutoff {}'.format(cutoff))\n",
        "    plt.legend(loc='lower right')\n",
        "    plt.show()\n",
        "\n",
        "# Function to display confusion matrix\n",
        "# Function to display confusion matrix\n",
        "def display_confusion_matrix(conf_matrix, cutoff):\n",
        "    plt.figure(figsize=(4, 4))\n",
        "    sns.heatmap(conf_matrix, annot=True, fmt='g', cmap='Blues', cbar=False)\n",
        "    plt.title('Confusion Matrix at Cutoff {}'.format(cutoff))\n",
        "    plt.xlabel('Predicted Label')\n",
        "    plt.ylabel('True Label')\n",
        "    plt.show()\n",
        "\n",
        "\n",
        "# Average ROC AUC scores across all folds and cutoff values\n",
        "print(\"Average ROC AUC Scores:\")\n",
        "for i, cutoff in enumerate(cutoff_values):\n",
        "    avg_roc_auc = np.mean(roc_auc_scores[i::len(cutoff_values)])\n",
        "    print(f\"At Cutoff {cutoff}: {avg_roc_auc}\")\n",
        "\n",
        "# Average confusion matrices across all folds and cutoff values\n",
        "print(\"\\nAverage Confusion Matrices:\")\n",
        "for i, cutoff in enumerate(cutoff_values):\n",
        "    avg_conf_matrix = np.mean(conf_matrices[i::len(cutoff_values)], axis=0)\n",
        "    print(f\"At Cutoff {cutoff}:\\n{avg_conf_matrix}\")\n",
        "\n",
        "    # Plot ROC curve\n",
        "    plot_roc_curve(fpr, tpr, avg_roc_auc, cutoff)\n",
        "\n",
        "    # Display confusion matrix\n",
        "    display_confusion_matrix(avg_conf_matrix, cutoff)\n"
      ],
      "metadata": {
        "colab": {
          "base_uri": "https://localhost:8080/",
          "height": 1000
        },
        "id": "PkGQvTPPb4g1",
        "outputId": "73cfab39-f6ac-46f9-b0fa-1bfc143324c7"
      },
      "execution_count": null,
      "outputs": [
        {
          "output_type": "stream",
          "name": "stdout",
          "text": [
            "Average ROC AUC Scores:\n",
            "At Cutoff 0.6: 0.872277792790121\n",
            "At Cutoff 0.7: 0.872277792790121\n",
            "\n",
            "Average Confusion Matrices:\n",
            "At Cutoff 0.6:\n",
            "[[3.46766333e+05 7.33333333e+01]\n",
            " [2.53433333e+03 1.51000000e+02]]\n"
          ]
        },
        {
          "output_type": "display_data",
          "data": {
            "text/plain": [
              "<Figure size 400x400 with 1 Axes>"
            ],
            "image/png": "[encoded data removed]"
          },
          "metadata": {}
        },
        {
          "output_type": "display_data",
          "data": {
            "text/plain": [
              "<Figure size 400x400 with 1 Axes>"
            ],
            "image/png": "[encoded data removed]"
          },
          "metadata": {}
        },
        {
          "output_type": "stream",
          "name": "stdout",
          "text": [
            "At Cutoff 0.7:\n",
            "[[3.46803000e+05 3.66666667e+01]\n",
            " [2.59966667e+03 8.56666667e+01]]\n"
          ]
        },
        {
          "output_type": "display_data",
          "data": {
            "text/plain": [
              "<Figure size 400x400 with 1 Axes>"
            ],
            "image/png": "[encoded data removed]"
          },
          "metadata": {}
        },
        {
          "output_type": "display_data",
          "data": {
            "text/plain": [
              "<Figure size 400x400 with 1 Axes>"
            ],
            "image/png": "[encoded data removed]"
          },
          "metadata": {}
        }
      ]
    },
    {
      "cell_type": "code",
      "source": [
        "# Build the LSTM model\n",
        "model = Sequential()\n",
        "model.add(LSTM(units=128, input_shape=(X_train.shape[1], X_train.shape[2]), return_sequences=True))\n",
        "model.add(LSTM(units=128, return_sequences=True))\n",
        "model.add(LSTM(units=64))\n",
        "model.add(Dense(units=1, activation='sigmoid'))\n",
        "# Plot the classification model architecture and display it\n",
        "plot_model(model, show_shapes=True, show_layer_names=True, rankdir='TB')\n",
        "plt.show()"
      ],
      "metadata": {
        "id": "eFtOyykM835I"
      },
      "execution_count": 10,
      "outputs": []
    }
  ]
}